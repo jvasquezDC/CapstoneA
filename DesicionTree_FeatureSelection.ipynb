{
 "cells": [
  {
   "cell_type": "code",
   "execution_count": 58,
   "metadata": {},
   "outputs": [],
   "source": [
    "#Import modules\n",
    "import pyodbc\n",
    "import pandas as pd\n",
    "import numpy as np\n",
    "\n",
    "import matplotlib.pyplot as plt\n",
    "import seaborn as sns\n",
    "\n",
    "from sklearn.model_selection import GridSearchCV\n",
    "from sklearn.model_selection import train_test_split\n",
    "from sklearn.svm import SVC\n",
    "from sklearn.tree import DecisionTreeClassifier\n",
    "from sklearn.preprocessing import StandardScaler, MinMaxScaler\n",
    "from sklearn.utils import shuffle\n",
    "\n",
    "import warnings\n",
    "warnings.filterwarnings('ignore')\n",
    "\n",
    "#1 = Sliding\n",
    "#0 = Rotating"
   ]
  },
  {
   "cell_type": "markdown",
   "metadata": {},
   "source": [
    "# Engels Questions\n",
    "\n",
    "## What is error\n",
    "## How do we show the event prior to the event\n",
    "## Quantative measurement based on time and depth\n",
    "## Time series\n",
    "\n",
    "## start model on just time then distance or vice versus then maybe both if needed\n",
    "\n",
    "## want to be early on prediction and never late\n",
    "## use absolute time differential before concentrating \n",
    "#\n"
   ]
  },
  {
   "cell_type": "code",
   "execution_count": 2,
   "metadata": {},
   "outputs": [],
   "source": [
    "#Connect to DB\n",
    "conn = pyodbc.connect('Driver={SQL Server};'\n",
    "                      'Server=jvsql02;'\n",
    "                      'Database=ML;'\n",
    "                      'Trusted_Connection=yes;')\n",
    "\n",
    "#Select the data from the table\n",
    "SQL_Query = pd.read_sql_query(\n",
    "'''select * from ML.dbo.TCR_ML_WELLS_Time_Analysis_Full''', conn)"
   ]
  },
  {
   "cell_type": "code",
   "execution_count": 64,
   "metadata": {},
   "outputs": [],
   "source": [
    "#Convert the query to a data frame\n",
    "df_raw = pd.DataFrame(SQL_Query, columns=              \n",
    "    [\n",
    "        'WellName','ReportDateTime','AccumulatedConnectionTime','AccumulatedFillupStrokes','AccumulatedFillupVolume'\n",
    ",'ADAutoDrillerRunning','ADAuxiliary1','ADAuxiliary2','ADAuxiliary3','ADAuxiliary4','ADAuxiliary5'\n",
    ",'ADDifferentialPressureActualValue','ADDifferentialPressureLimitValue','ADDifferentialPressureSetpointValue','ADDPEnabled'\n",
    ",'ADHookloadSlider','ADROPActualValue','ADROPCruiseControlEnabled','ADROPSetpointValue','ADSPPSlider','ADSystemEnabled'\n",
    ",'ADWOBActualValue','ADWOBEnabled','ADWOBLimitValue','ADWOBSetpointValue','BitArea','BitNozzleTotalFlowArea','BitRPM'\n",
    ",'BitTime_OffBottom','BitTime_OnBottom','BlockPosition','CasingPressure','CoilEngaged','ConnectionCounter'\n",
    ",'CurrentConnectionTime','Date','DateDateOnly','DateTimeOnly','Depth_Bit','DepthHoleTVD','DifferentialPressure'\n",
    ",'DrillCabTDSUTemp','DrillMode','DynamicVariable06','DynamicVariable09','DynamicVariable10','EC1Active','EC1ActivityCode1'\n",
    ",'EC1ActivityCode2','EC1ActivityCode3','EC1ActivityCode4','EC1ActivityCode5','EC1Authorized','EC1DPModeOn','EC1DPModeOnReq'\n",
    ",'EC1DPSPActual','EC1DPSPRecommended','EC1Ready','EC1ROPSPActual','EC1ROPSPRecommended','EC1WOBModeOn','EC1WOBModeOnReq'\n",
    ",'EC1WOBSPActual','EC1WOBSPRecommended','FlowIn','GasTotal_units','H2S04','H2S08','H2S09','H2S11','Hookload'\n",
    ",'HookloadInline','HookloadString','JobPumpVolumeTotal','JobStrokesTotal','LagDepthGas','LEL01','LEL02','LEL03','LEL04'\n",
    ",'LEL05','LEL06','LEL07','LEL08','LEL09','LEL10','LEL11','LEL12','MudMotorRPM','MWDAzimuth'\n",
    ",'MWDContinuousInclination','MWDGammaAPI','MWDInclination','MWDSrvToolfaceAdvisory','MWDSrvToolfaceLimits'\n",
    ",'OnBottom','OverPull','Pit01Volume','Pit02Volume','Pit03Volume','Pit04Volume','Pit05GL','Pit06Volume','Pit07Volume'\n",
    ",'PitGLActive','PitGLCompanyMan','PitGLMudLogger','PitGLMWD','PitGLSignature','PitVolumeActive','PitVolumeTotal'\n",
    ",'PLCStatus','PreviousConnectionTime','PumpOffTime','PumpOnTime','PumpPressure','PumpsOn','PumpVolumeTotal','ReturnFlow'\n",
    ",'ReturnFlowDetected','REVitEnabled','REVitUsageAlert','ROCKIT_BearingActualRW','ROCKIT_HITRQLeft','ROCKIT_HITRQLeftPercent'\n",
    ",'ROCKIT_HITRQRight','ROCKIT_HITRQRightPercent','ROCKIT_OnOff','ROCKIT_OscillationLeftRW','ROCKIT_OscillationRightRW'\n",
    ",'ROCKIT_PILOTOnOff','ROCKIT_ResultantToolface','ROCKIT_RPMRW','ROCKIT_ScoreCardRW','ROCKIT_SlidetoMDRW','ROCKIT_TFtoRW'\n",
    ",'ROP5xDepthhour','ROPDepth_StepDepthHour','ROPDepthHour','ROPMax','ROPMinuteDepth','ROPTimeDepthHour','RotaryRPM'\n",
    ",'RunningSpeedDown','RunningSpeedUp','SeperatorFlow','SlipsSet','SPM1','SPM2','SPMTotal','StaticInjectorForce'\n",
    ",'STCfActualNm_Sec','STKfActualNm','Strokes1','Strokes1CompanyMan','Strokes2','Strokes2CompanyMan','StrokesTotal'\n",
    ",'StrokesTotalCompanyMan','StrokesTotalMudLogger','TDOilSensorBypassAlarm','TDOilType','TDPLCAlarm1','TDPLCAlarm4'\n",
    ",'TDQuillPosition','TDS_AmbientTemperature','TDS_BrakeTemperature','TDS_HPUOilTankTemperature','TDS_HydraulicTemperature'\n",
    ",'TDS_LowerBearingTemp','TDS_LubeOilAfterFilterPres','TDS_LubeOilPressure','TDS_LubeOilTemperature'\n",
    ",'TDS_MotorWindingTemperature1','TDS_MotorWindingTemperature2','TDS_MotorWindingTemperature3ACOnly'\n",
    ",'TDS_OilPressureAcrosstheFilter','TDS_UpperBearingTemp','TDSRotaryTorqueLimit','TDTorqueInline','TongMakeupStartPressure'\n",
    ",'TonMilesEventCumulative','TonMilesMegajoules','TopDriveRPM','TopDriveRPMCommand','TopDriveTorqueCommand'\n",
    ",'TopDriveTorqueft_lbs','TorqueDelta','TorqueTare','TripGL','TripGLCompanyMan','TripGLSignature','TripModeAccumulation'\n",
    ",'TripModeFillupStrokes','TripVolumeActive','UnderPull','VFDVariable10','VFDVariable9','WeightonBit'\n",
    "            ])\n",
    "\n"
   ]
  },
  {
   "cell_type": "code",
   "execution_count": 65,
   "metadata": {},
   "outputs": [
    {
     "data": {
      "text/html": [
       "<div>\n",
       "<style scoped>\n",
       "    .dataframe tbody tr th:only-of-type {\n",
       "        vertical-align: middle;\n",
       "    }\n",
       "\n",
       "    .dataframe tbody tr th {\n",
       "        vertical-align: top;\n",
       "    }\n",
       "\n",
       "    .dataframe thead th {\n",
       "        text-align: right;\n",
       "    }\n",
       "</style>\n",
       "<table border=\"1\" class=\"dataframe\">\n",
       "  <thead>\n",
       "    <tr style=\"text-align: right;\">\n",
       "      <th></th>\n",
       "      <th>WellName</th>\n",
       "      <th>ReportDateTime</th>\n",
       "      <th>AccumulatedConnectionTime</th>\n",
       "      <th>AccumulatedFillupStrokes</th>\n",
       "      <th>AccumulatedFillupVolume</th>\n",
       "      <th>ADAutoDrillerRunning</th>\n",
       "      <th>ADAuxiliary1</th>\n",
       "      <th>ADAuxiliary2</th>\n",
       "      <th>ADAuxiliary3</th>\n",
       "      <th>ADAuxiliary4</th>\n",
       "      <th>...</th>\n",
       "      <th>TripGL</th>\n",
       "      <th>TripGLCompanyMan</th>\n",
       "      <th>TripGLSignature</th>\n",
       "      <th>TripModeAccumulation</th>\n",
       "      <th>TripModeFillupStrokes</th>\n",
       "      <th>TripVolumeActive</th>\n",
       "      <th>UnderPull</th>\n",
       "      <th>VFDVariable10</th>\n",
       "      <th>VFDVariable9</th>\n",
       "      <th>WeightonBit</th>\n",
       "    </tr>\n",
       "  </thead>\n",
       "  <tbody>\n",
       "    <tr>\n",
       "      <th>0</th>\n",
       "      <td>LANGE_A_N048HM_TIME.csv</td>\n",
       "      <td>2018-07-19 19:27:20</td>\n",
       "      <td>3.613368e+09</td>\n",
       "      <td>0.0</td>\n",
       "      <td>0.0</td>\n",
       "      <td>-1.0</td>\n",
       "      <td>65.026100</td>\n",
       "      <td>60.0</td>\n",
       "      <td>0.0</td>\n",
       "      <td>256.0</td>\n",
       "      <td>...</td>\n",
       "      <td>2.75318</td>\n",
       "      <td>-36.650749</td>\n",
       "      <td>3.614740e+09</td>\n",
       "      <td>0.0</td>\n",
       "      <td>0.0</td>\n",
       "      <td>3.62847</td>\n",
       "      <td>0.0</td>\n",
       "      <td>0.0</td>\n",
       "      <td>0.0</td>\n",
       "      <td>22.928080</td>\n",
       "    </tr>\n",
       "    <tr>\n",
       "      <th>1</th>\n",
       "      <td>LANGE_A_N048HM_TIME.csv</td>\n",
       "      <td>2018-07-19 19:27:30</td>\n",
       "      <td>3.613368e+09</td>\n",
       "      <td>0.0</td>\n",
       "      <td>0.0</td>\n",
       "      <td>-1.0</td>\n",
       "      <td>64.834343</td>\n",
       "      <td>60.0</td>\n",
       "      <td>0.0</td>\n",
       "      <td>256.0</td>\n",
       "      <td>...</td>\n",
       "      <td>2.73727</td>\n",
       "      <td>-36.666672</td>\n",
       "      <td>3.614740e+09</td>\n",
       "      <td>0.0</td>\n",
       "      <td>0.0</td>\n",
       "      <td>3.61256</td>\n",
       "      <td>0.0</td>\n",
       "      <td>0.0</td>\n",
       "      <td>0.0</td>\n",
       "      <td>22.223921</td>\n",
       "    </tr>\n",
       "  </tbody>\n",
       "</table>\n",
       "<p>2 rows × 199 columns</p>\n",
       "</div>"
      ],
      "text/plain": [
       "                  WellName      ReportDateTime  AccumulatedConnectionTime  \\\n",
       "0  LANGE_A_N048HM_TIME.csv 2018-07-19 19:27:20               3.613368e+09   \n",
       "1  LANGE_A_N048HM_TIME.csv 2018-07-19 19:27:30               3.613368e+09   \n",
       "\n",
       "   AccumulatedFillupStrokes  AccumulatedFillupVolume  ADAutoDrillerRunning  \\\n",
       "0                       0.0                      0.0                  -1.0   \n",
       "1                       0.0                      0.0                  -1.0   \n",
       "\n",
       "   ADAuxiliary1  ADAuxiliary2  ADAuxiliary3  ADAuxiliary4  ...   TripGL  \\\n",
       "0     65.026100          60.0           0.0         256.0  ...  2.75318   \n",
       "1     64.834343          60.0           0.0         256.0  ...  2.73727   \n",
       "\n",
       "   TripGLCompanyMan  TripGLSignature  TripModeAccumulation  \\\n",
       "0        -36.650749     3.614740e+09                   0.0   \n",
       "1        -36.666672     3.614740e+09                   0.0   \n",
       "\n",
       "   TripModeFillupStrokes  TripVolumeActive  UnderPull  VFDVariable10  \\\n",
       "0                    0.0           3.62847        0.0            0.0   \n",
       "1                    0.0           3.61256        0.0            0.0   \n",
       "\n",
       "   VFDVariable9  WeightonBit  \n",
       "0           0.0    22.928080  \n",
       "1           0.0    22.223921  \n",
       "\n",
       "[2 rows x 199 columns]"
      ]
     },
     "execution_count": 65,
     "metadata": {},
     "output_type": "execute_result"
    }
   ],
   "source": [
    "df_raw.head(2)"
   ]
  },
  {
   "cell_type": "code",
   "execution_count": 66,
   "metadata": {},
   "outputs": [
    {
     "data": {
      "text/html": [
       "<div>\n",
       "<style scoped>\n",
       "    .dataframe tbody tr th:only-of-type {\n",
       "        vertical-align: middle;\n",
       "    }\n",
       "\n",
       "    .dataframe tbody tr th {\n",
       "        vertical-align: top;\n",
       "    }\n",
       "\n",
       "    .dataframe thead th {\n",
       "        text-align: right;\n",
       "    }\n",
       "</style>\n",
       "<table border=\"1\" class=\"dataframe\">\n",
       "  <thead>\n",
       "    <tr style=\"text-align: right;\">\n",
       "      <th></th>\n",
       "      <th>WellName</th>\n",
       "      <th>AccumulatedConnectionTime</th>\n",
       "      <th>AccumulatedFillupStrokes</th>\n",
       "      <th>AccumulatedFillupVolume</th>\n",
       "      <th>ADAutoDrillerRunning</th>\n",
       "      <th>ADAuxiliary1</th>\n",
       "      <th>ADAuxiliary2</th>\n",
       "      <th>ADAuxiliary3</th>\n",
       "      <th>ADAuxiliary4</th>\n",
       "      <th>ADAuxiliary5</th>\n",
       "      <th>...</th>\n",
       "      <th>TripGL</th>\n",
       "      <th>TripGLCompanyMan</th>\n",
       "      <th>TripGLSignature</th>\n",
       "      <th>TripModeAccumulation</th>\n",
       "      <th>TripModeFillupStrokes</th>\n",
       "      <th>TripVolumeActive</th>\n",
       "      <th>UnderPull</th>\n",
       "      <th>VFDVariable10</th>\n",
       "      <th>VFDVariable9</th>\n",
       "      <th>WeightonBit</th>\n",
       "    </tr>\n",
       "    <tr>\n",
       "      <th>ReportDateTime</th>\n",
       "      <th></th>\n",
       "      <th></th>\n",
       "      <th></th>\n",
       "      <th></th>\n",
       "      <th></th>\n",
       "      <th></th>\n",
       "      <th></th>\n",
       "      <th></th>\n",
       "      <th></th>\n",
       "      <th></th>\n",
       "      <th></th>\n",
       "      <th></th>\n",
       "      <th></th>\n",
       "      <th></th>\n",
       "      <th></th>\n",
       "      <th></th>\n",
       "      <th></th>\n",
       "      <th></th>\n",
       "      <th></th>\n",
       "      <th></th>\n",
       "      <th></th>\n",
       "    </tr>\n",
       "  </thead>\n",
       "  <tbody>\n",
       "    <tr>\n",
       "      <th>2018-07-19 19:27:20</th>\n",
       "      <td>LANGE_A_N048HM_TIME.csv</td>\n",
       "      <td>3.613368e+09</td>\n",
       "      <td>0.0</td>\n",
       "      <td>0.0</td>\n",
       "      <td>-1.0</td>\n",
       "      <td>65.026100</td>\n",
       "      <td>60.0</td>\n",
       "      <td>0.0</td>\n",
       "      <td>256.0</td>\n",
       "      <td>42.0</td>\n",
       "      <td>...</td>\n",
       "      <td>2.75318</td>\n",
       "      <td>-36.650749</td>\n",
       "      <td>3.614740e+09</td>\n",
       "      <td>0.0</td>\n",
       "      <td>0.0</td>\n",
       "      <td>3.62847</td>\n",
       "      <td>0.0</td>\n",
       "      <td>0.0</td>\n",
       "      <td>0.0</td>\n",
       "      <td>22.928080</td>\n",
       "    </tr>\n",
       "    <tr>\n",
       "      <th>2018-07-19 19:27:30</th>\n",
       "      <td>LANGE_A_N048HM_TIME.csv</td>\n",
       "      <td>3.613368e+09</td>\n",
       "      <td>0.0</td>\n",
       "      <td>0.0</td>\n",
       "      <td>-1.0</td>\n",
       "      <td>64.834343</td>\n",
       "      <td>60.0</td>\n",
       "      <td>0.0</td>\n",
       "      <td>256.0</td>\n",
       "      <td>42.0</td>\n",
       "      <td>...</td>\n",
       "      <td>2.73727</td>\n",
       "      <td>-36.666672</td>\n",
       "      <td>3.614740e+09</td>\n",
       "      <td>0.0</td>\n",
       "      <td>0.0</td>\n",
       "      <td>3.61256</td>\n",
       "      <td>0.0</td>\n",
       "      <td>0.0</td>\n",
       "      <td>0.0</td>\n",
       "      <td>22.223921</td>\n",
       "    </tr>\n",
       "  </tbody>\n",
       "</table>\n",
       "<p>2 rows × 198 columns</p>\n",
       "</div>"
      ],
      "text/plain": [
       "                                    WellName  AccumulatedConnectionTime  \\\n",
       "ReportDateTime                                                            \n",
       "2018-07-19 19:27:20  LANGE_A_N048HM_TIME.csv               3.613368e+09   \n",
       "2018-07-19 19:27:30  LANGE_A_N048HM_TIME.csv               3.613368e+09   \n",
       "\n",
       "                     AccumulatedFillupStrokes  AccumulatedFillupVolume  \\\n",
       "ReportDateTime                                                           \n",
       "2018-07-19 19:27:20                       0.0                      0.0   \n",
       "2018-07-19 19:27:30                       0.0                      0.0   \n",
       "\n",
       "                     ADAutoDrillerRunning  ADAuxiliary1  ADAuxiliary2  \\\n",
       "ReportDateTime                                                          \n",
       "2018-07-19 19:27:20                  -1.0     65.026100          60.0   \n",
       "2018-07-19 19:27:30                  -1.0     64.834343          60.0   \n",
       "\n",
       "                     ADAuxiliary3  ADAuxiliary4  ADAuxiliary5  ...   TripGL  \\\n",
       "ReportDateTime                                                 ...            \n",
       "2018-07-19 19:27:20           0.0         256.0          42.0  ...  2.75318   \n",
       "2018-07-19 19:27:30           0.0         256.0          42.0  ...  2.73727   \n",
       "\n",
       "                     TripGLCompanyMan  TripGLSignature  TripModeAccumulation  \\\n",
       "ReportDateTime                                                                 \n",
       "2018-07-19 19:27:20        -36.650749     3.614740e+09                   0.0   \n",
       "2018-07-19 19:27:30        -36.666672     3.614740e+09                   0.0   \n",
       "\n",
       "                     TripModeFillupStrokes  TripVolumeActive  UnderPull  \\\n",
       "ReportDateTime                                                            \n",
       "2018-07-19 19:27:20                    0.0           3.62847        0.0   \n",
       "2018-07-19 19:27:30                    0.0           3.61256        0.0   \n",
       "\n",
       "                     VFDVariable10  VFDVariable9  WeightonBit  \n",
       "ReportDateTime                                                 \n",
       "2018-07-19 19:27:20            0.0           0.0    22.928080  \n",
       "2018-07-19 19:27:30            0.0           0.0    22.223921  \n",
       "\n",
       "[2 rows x 198 columns]"
      ]
     },
     "execution_count": 66,
     "metadata": {},
     "output_type": "execute_result"
    }
   ],
   "source": [
    "#Convert the query to a data frame\n",
    "df_time_indexed = df.set_index('ReportDateTime')\n",
    "df_time_indexed.head(2)"
   ]
  },
  {
   "cell_type": "code",
   "execution_count": 67,
   "metadata": {},
   "outputs": [],
   "source": [
    "df_time_indexed.drop([ 'AccumulatedFillupStrokes', 'AccumulatedFillupVolume', 'ADAuxiliary2', 'ADAuxiliary3', 'ADAuxiliary4', 'ADAuxiliary5', 'BitArea', 'BitNozzleTotalFlowArea', 'CoilEngaged', 'CurrentConnectionTime'\n",
    ", 'DrillMode', 'DynamicVariable09', 'EC1Active', 'EC1ActivityCode1', 'EC1ActivityCode2', 'EC1ActivityCode3', 'EC1ActivityCode4', 'EC1ActivityCode5', 'EC1Authorized', 'EC1DPModeOn', 'EC1DPModeOnReq'\n",
    ", 'EC1DPSPActual', 'EC1DPSPRecommended', 'EC1Ready', 'EC1ROPSPActual', 'EC1ROPSPRecommended', 'EC1WOBModeOn', 'EC1WOBModeOnReq', 'EC1WOBSPActual', 'EC1WOBSPRecommended', 'H2S08', 'H2S09'\n",
    ", 'HookloadInline', 'LEL01', 'LEL03', 'LEL05', 'LEL06', 'LEL08', 'LEL09', 'LEL10', 'LEL12', 'MudMotorRPM', 'OnBottom', 'PLCStatus', 'REVitEnabled', 'REVitUsageAlert', 'ROCKIT_PILOTOnOff', 'SlipsSet'\n",
    ", 'StaticInjectorForce', 'STCfActualNm_Sec', 'STKfActualNm', 'TDOilSensorBypassAlarm', 'TDOilType', 'TDTorqueInline', 'TongMakeupStartPressure', 'TorqueTare', 'UnderPull', 'VFDVariable10', 'VFDVariable9'\n",
    ", 'H2S04', 'LEL02', 'LEL11', 'SeperatorFlow', 'H2S11', 'Date', 'DateDateOnly', 'DateTimeOnly', 'AccumulatedConnectionTime', 'ADAutoDrillerRunning', 'ADDPEnabled', 'ADROPCruiseControlEnabled', 'ADSystemEnabled', 'ADWOBEnabled'\n",
    ", 'TripModeAccumulation', 'TripModeFillupStrokes', 'ADAuxiliary1'\n",
    "        ], axis=1, inplace=True)\n",
    "#, 'ReportDateTime'\n",
    "#, 'WellName'\n",
    "#ADAuxiliary1 - removed as per vendor (user defined)"
   ]
  },
  {
   "cell_type": "code",
   "execution_count": 68,
   "metadata": {},
   "outputs": [],
   "source": [
    "df_time_indexed.drop(['WellName'], axis=1, inplace=True)"
   ]
  },
  {
   "cell_type": "code",
   "execution_count": 69,
   "metadata": {},
   "outputs": [
    {
     "data": {
      "text/plain": [
       "(725789, 121)"
      ]
     },
     "execution_count": 69,
     "metadata": {},
     "output_type": "execute_result"
    }
   ],
   "source": [
    "#see the dimensions of the data\n",
    "df_time_indexed.shape"
   ]
  },
  {
   "cell_type": "code",
   "execution_count": 70,
   "metadata": {},
   "outputs": [
    {
     "data": {
      "text/html": [
       "<div>\n",
       "<style scoped>\n",
       "    .dataframe tbody tr th:only-of-type {\n",
       "        vertical-align: middle;\n",
       "    }\n",
       "\n",
       "    .dataframe tbody tr th {\n",
       "        vertical-align: top;\n",
       "    }\n",
       "\n",
       "    .dataframe thead th {\n",
       "        text-align: right;\n",
       "    }\n",
       "</style>\n",
       "<table border=\"1\" class=\"dataframe\">\n",
       "  <thead>\n",
       "    <tr style=\"text-align: right;\">\n",
       "      <th></th>\n",
       "      <th>ADDifferentialPressureActualValue</th>\n",
       "      <th>ADDifferentialPressureLimitValue</th>\n",
       "      <th>ADDifferentialPressureSetpointValue</th>\n",
       "      <th>ADHookloadSlider</th>\n",
       "      <th>ADROPActualValue</th>\n",
       "      <th>ADROPSetpointValue</th>\n",
       "      <th>ADSPPSlider</th>\n",
       "      <th>ADWOBActualValue</th>\n",
       "      <th>ADWOBLimitValue</th>\n",
       "      <th>ADWOBSetpointValue</th>\n",
       "      <th>...</th>\n",
       "      <th>TopDriveRPM</th>\n",
       "      <th>TopDriveRPMCommand</th>\n",
       "      <th>TopDriveTorqueCommand</th>\n",
       "      <th>TopDriveTorqueft_lbs</th>\n",
       "      <th>TorqueDelta</th>\n",
       "      <th>TripGL</th>\n",
       "      <th>TripGLCompanyMan</th>\n",
       "      <th>TripGLSignature</th>\n",
       "      <th>TripVolumeActive</th>\n",
       "      <th>WeightonBit</th>\n",
       "    </tr>\n",
       "    <tr>\n",
       "      <th>ReportDateTime</th>\n",
       "      <th></th>\n",
       "      <th></th>\n",
       "      <th></th>\n",
       "      <th></th>\n",
       "      <th></th>\n",
       "      <th></th>\n",
       "      <th></th>\n",
       "      <th></th>\n",
       "      <th></th>\n",
       "      <th></th>\n",
       "      <th></th>\n",
       "      <th></th>\n",
       "      <th></th>\n",
       "      <th></th>\n",
       "      <th></th>\n",
       "      <th></th>\n",
       "      <th></th>\n",
       "      <th></th>\n",
       "      <th></th>\n",
       "      <th></th>\n",
       "      <th></th>\n",
       "    </tr>\n",
       "  </thead>\n",
       "  <tbody>\n",
       "    <tr>\n",
       "      <th>2018-07-19 19:27:20</th>\n",
       "      <td>260.875885</td>\n",
       "      <td>850.0</td>\n",
       "      <td>420.0</td>\n",
       "      <td>1.0</td>\n",
       "      <td>13.85443</td>\n",
       "      <td>90.0</td>\n",
       "      <td>1.0</td>\n",
       "      <td>21.675610</td>\n",
       "      <td>32.0</td>\n",
       "      <td>22.0</td>\n",
       "      <td>...</td>\n",
       "      <td>65.068710</td>\n",
       "      <td>65.068710</td>\n",
       "      <td>7801.826660</td>\n",
       "      <td>7801.826660</td>\n",
       "      <td>8106.402832</td>\n",
       "      <td>2.75318</td>\n",
       "      <td>-36.650749</td>\n",
       "      <td>3.614740e+09</td>\n",
       "      <td>3.62847</td>\n",
       "      <td>22.928080</td>\n",
       "    </tr>\n",
       "    <tr>\n",
       "      <th>2018-07-19 19:27:30</th>\n",
       "      <td>238.689758</td>\n",
       "      <td>850.0</td>\n",
       "      <td>420.0</td>\n",
       "      <td>1.0</td>\n",
       "      <td>67.49762</td>\n",
       "      <td>90.0</td>\n",
       "      <td>1.0</td>\n",
       "      <td>22.071711</td>\n",
       "      <td>32.0</td>\n",
       "      <td>22.0</td>\n",
       "      <td>...</td>\n",
       "      <td>64.994141</td>\n",
       "      <td>64.994141</td>\n",
       "      <td>8277.098633</td>\n",
       "      <td>8277.098633</td>\n",
       "      <td>10024.226562</td>\n",
       "      <td>2.73727</td>\n",
       "      <td>-36.666672</td>\n",
       "      <td>3.614740e+09</td>\n",
       "      <td>3.61256</td>\n",
       "      <td>22.223921</td>\n",
       "    </tr>\n",
       "  </tbody>\n",
       "</table>\n",
       "<p>2 rows × 121 columns</p>\n",
       "</div>"
      ],
      "text/plain": [
       "                     ADDifferentialPressureActualValue  \\\n",
       "ReportDateTime                                           \n",
       "2018-07-19 19:27:20                         260.875885   \n",
       "2018-07-19 19:27:30                         238.689758   \n",
       "\n",
       "                     ADDifferentialPressureLimitValue  \\\n",
       "ReportDateTime                                          \n",
       "2018-07-19 19:27:20                             850.0   \n",
       "2018-07-19 19:27:30                             850.0   \n",
       "\n",
       "                     ADDifferentialPressureSetpointValue  ADHookloadSlider  \\\n",
       "ReportDateTime                                                               \n",
       "2018-07-19 19:27:20                                420.0               1.0   \n",
       "2018-07-19 19:27:30                                420.0               1.0   \n",
       "\n",
       "                     ADROPActualValue  ADROPSetpointValue  ADSPPSlider  \\\n",
       "ReportDateTime                                                           \n",
       "2018-07-19 19:27:20          13.85443                90.0          1.0   \n",
       "2018-07-19 19:27:30          67.49762                90.0          1.0   \n",
       "\n",
       "                     ADWOBActualValue  ADWOBLimitValue  ADWOBSetpointValue  \\\n",
       "ReportDateTime                                                               \n",
       "2018-07-19 19:27:20         21.675610             32.0                22.0   \n",
       "2018-07-19 19:27:30         22.071711             32.0                22.0   \n",
       "\n",
       "                     ...  TopDriveRPM  TopDriveRPMCommand  \\\n",
       "ReportDateTime       ...                                    \n",
       "2018-07-19 19:27:20  ...    65.068710           65.068710   \n",
       "2018-07-19 19:27:30  ...    64.994141           64.994141   \n",
       "\n",
       "                     TopDriveTorqueCommand  TopDriveTorqueft_lbs  \\\n",
       "ReportDateTime                                                     \n",
       "2018-07-19 19:27:20            7801.826660           7801.826660   \n",
       "2018-07-19 19:27:30            8277.098633           8277.098633   \n",
       "\n",
       "                      TorqueDelta   TripGL  TripGLCompanyMan  TripGLSignature  \\\n",
       "ReportDateTime                                                                  \n",
       "2018-07-19 19:27:20   8106.402832  2.75318        -36.650749     3.614740e+09   \n",
       "2018-07-19 19:27:30  10024.226562  2.73727        -36.666672     3.614740e+09   \n",
       "\n",
       "                     TripVolumeActive  WeightonBit  \n",
       "ReportDateTime                                      \n",
       "2018-07-19 19:27:20           3.62847    22.928080  \n",
       "2018-07-19 19:27:30           3.61256    22.223921  \n",
       "\n",
       "[2 rows x 121 columns]"
      ]
     },
     "execution_count": 70,
     "metadata": {},
     "output_type": "execute_result"
    }
   ],
   "source": [
    "#Show first 5 rows of data\n",
    "df_time_indexed.head(2)"
   ]
  },
  {
   "cell_type": "markdown",
   "metadata": {},
   "source": [
    "## Create Features and Labels"
   ]
  },
  {
   "cell_type": "code",
   "execution_count": 140,
   "metadata": {},
   "outputs": [],
   "source": [
    "label_column =  'ROCKIT_OnOff'\n",
    "\n",
    "features = df_time_indexed.dropna().drop([label_column], axis=1)\n",
    "#features = df.dropna().drop([label_column, 'ROCKIT_RPMRW'], axis=1)\n",
    "labels = df_time_indexed.dropna()[label_column]\n",
    "\n",
    "X = features.values\n",
    "y = labels.values"
   ]
  },
  {
   "cell_type": "markdown",
   "metadata": {},
   "source": [
    "# Grid Search -- Do not have to run again"
   ]
  },
  {
   "cell_type": "code",
   "execution_count": 72,
   "metadata": {},
   "outputs": [],
   "source": [
    "params = {'max_depth':[5, 10, 15], 'min_samples_split':[2, 4, 8]}\n",
    "\n",
    "clf = DecisionTreeClassifier()\n",
    "\n",
    "grid = GridSearchCV(clf, params, cv=10)"
   ]
  },
  {
   "cell_type": "code",
   "execution_count": 73,
   "metadata": {},
   "outputs": [
    {
     "data": {
      "text/plain": [
       "GridSearchCV(cv=10, error_score='raise-deprecating',\n",
       "       estimator=DecisionTreeClassifier(class_weight=None, criterion='gini', max_depth=None,\n",
       "            max_features=None, max_leaf_nodes=None,\n",
       "            min_impurity_decrease=0.0, min_impurity_split=None,\n",
       "            min_samples_leaf=1, min_samples_split=2,\n",
       "            min_weight_fraction_leaf=0.0, presort=False, random_state=None,\n",
       "            splitter='best'),\n",
       "       fit_params=None, iid='warn', n_jobs=None,\n",
       "       param_grid={'max_depth': [5, 10, 15], 'min_samples_split': [2, 4, 8]},\n",
       "       pre_dispatch='2*n_jobs', refit=True, return_train_score='warn',\n",
       "       scoring=None, verbose=0)"
      ]
     },
     "execution_count": 73,
     "metadata": {},
     "output_type": "execute_result"
    }
   ],
   "source": [
    "#To run on small sample set\n",
    "#grid.fit(X[:500], y[:500])\n",
    "\n",
    "#to run on full data set\n",
    "grid.fit(X, y)"
   ]
  },
  {
   "cell_type": "code",
   "execution_count": 74,
   "metadata": {},
   "outputs": [
    {
     "data": {
      "text/plain": [
       "DecisionTreeClassifier(class_weight=None, criterion='gini', max_depth=5,\n",
       "            max_features=None, max_leaf_nodes=None,\n",
       "            min_impurity_decrease=0.0, min_impurity_split=None,\n",
       "            min_samples_leaf=1, min_samples_split=8,\n",
       "            min_weight_fraction_leaf=0.0, presort=False, random_state=None,\n",
       "            splitter='best')"
      ]
     },
     "execution_count": 74,
     "metadata": {},
     "output_type": "execute_result"
    }
   ],
   "source": [
    "best_dt = grid.best_estimator_\n",
    "best_dt"
   ]
  },
  {
   "cell_type": "code",
   "execution_count": 75,
   "metadata": {},
   "outputs": [
    {
     "data": {
      "text/plain": [
       "{'max_depth': 5, 'min_samples_split': 8}"
      ]
     },
     "execution_count": 75,
     "metadata": {},
     "output_type": "execute_result"
    }
   ],
   "source": [
    "grid.best_params_"
   ]
  },
  {
   "cell_type": "markdown",
   "metadata": {},
   "source": [
    "## Grid Search Results: \n",
    "### best paramaters are{'max_depth': 5, 'min_samples_split': 8}"
   ]
  },
  {
   "cell_type": "markdown",
   "metadata": {},
   "source": [
    "# Apply best param to feature selection\n",
    "## Create Labels"
   ]
  },
  {
   "cell_type": "code",
   "execution_count": 76,
   "metadata": {},
   "outputs": [],
   "source": [
    "label_column =  'ROCKIT_OnOff'\n",
    "\n",
    "#fill in max depth and min samples with above numbers\n",
    "dt = DecisionTreeClassifier(max_depth=5, min_samples_split=8)\n",
    "\n",
    "#After grid search is done you can use the object for descion tree fits\n",
    "#dt = grid.best_estimator_"
   ]
  },
  {
   "cell_type": "code",
   "execution_count": 77,
   "metadata": {},
   "outputs": [
    {
     "data": {
      "text/plain": [
       "DecisionTreeClassifier(class_weight=None, criterion='gini', max_depth=5,\n",
       "            max_features=None, max_leaf_nodes=None,\n",
       "            min_impurity_decrease=0.0, min_impurity_split=None,\n",
       "            min_samples_leaf=1, min_samples_split=8,\n",
       "            min_weight_fraction_leaf=0.0, presort=False, random_state=None,\n",
       "            splitter='best')"
      ]
     },
     "execution_count": 77,
     "metadata": {},
     "output_type": "execute_result"
    }
   ],
   "source": [
    "dt.fit(X, y)"
   ]
  },
  {
   "cell_type": "markdown",
   "metadata": {},
   "source": [
    "# Create indices\n",
    "### Non zero importances"
   ]
  },
  {
   "cell_type": "code",
   "execution_count": 78,
   "metadata": {},
   "outputs": [],
   "source": [
    "#index feature importance\n",
    "feature_importances = dt.feature_importances_\n",
    "\n",
    "#Get non zero indicies to filter with\n",
    "nz_indices = np.argwhere(feature_importances > 0)\n",
    "nz_features = features.columns[nz_indices].values.flatten()\n",
    "nz_importances = feature_importances[nz_indices].flatten()"
   ]
  },
  {
   "cell_type": "code",
   "execution_count": 79,
   "metadata": {},
   "outputs": [
    {
     "name": "stdout",
     "output_type": "stream",
     "text": [
      "Max non-zero feature name = ROCKIT_RPMRW\n",
      "Max non-zero feature value = 0.8541623398246567\n"
     ]
    }
   ],
   "source": [
    "#Find the most importance features number\n",
    "#nz_features[ np.argmax(nz_importances) ]\n",
    "#nz_importances.max()\n",
    "\n",
    "print(\"Max non-zero feature name = \"+ nz_features[ np.argmax(nz_importances) ])\n",
    "print(\"Max non-zero feature value = %s\" % nz_importances.max())"
   ]
  },
  {
   "cell_type": "markdown",
   "metadata": {},
   "source": [
    "### Top quartiles analysis"
   ]
  },
  {
   "cell_type": "code",
   "execution_count": 80,
   "metadata": {},
   "outputs": [
    {
     "data": {
      "text/plain": [
       "count    19.000000\n",
       "mean      0.052632\n",
       "std       0.194556\n",
       "min       0.000007\n",
       "25%       0.000448\n",
       "50%       0.002963\n",
       "75%       0.010801\n",
       "max       0.854162\n",
       "dtype: float64"
      ]
     },
     "execution_count": 80,
     "metadata": {},
     "output_type": "execute_result"
    }
   ],
   "source": [
    "imp = pd.Series(nz_importances)\n",
    "desc = imp.describe()\n",
    "desc"
   ]
  },
  {
   "cell_type": "code",
   "execution_count": 81,
   "metadata": {},
   "outputs": [],
   "source": [
    "#Function to run percent analysis\n",
    "def rank(imp, perc, remove_outlier=True):\n",
    "    if remove_outlier:\n",
    "        imp = imp[imp < imp.max()]\n",
    "   \n",
    "    desc = imp.describe()\n",
    "    if type(perc) == str:\n",
    "        top = imp[ imp >=  desc[perc]]\n",
    "    else:\n",
    "        top = imp[ imp >= perc]\n",
    "    \n",
    "    # N top features\n",
    "    n_top = top.shape[0]\n",
    "    \n",
    "    # Total variation explanation\n",
    "    var_expl = top.sum() / imp.sum()\n",
    "    \n",
    "    return n_top, var_expl"
   ]
  },
  {
   "cell_type": "markdown",
   "metadata": {},
   "source": [
    "### Save the features and variance to object"
   ]
  },
  {
   "cell_type": "code",
   "execution_count": 82,
   "metadata": {},
   "outputs": [],
   "source": [
    "#Create variables that shows features and variances\n",
    "#Number of features, fractioned explained by variance\n",
    "\n",
    "# True (default) = removes outlier\n",
    "# False = Keeps outlier\n",
    "\n",
    "Perc25_NoOutlier = rank(imp, '25%')\n",
    "Perc50_NoOutlier = rank(imp, '50%')\n",
    "Perc75_NoOutlier = rank(imp, '75%')\n",
    "\n",
    "\n",
    "Perc25_WithOutlier = rank(imp, '25%', False)\n",
    "Perc50_WithOutlier = rank(imp, '50%', False)\n",
    "Perc75_WithOutlier = rank(imp, '75%', False)"
   ]
  },
  {
   "cell_type": "markdown",
   "metadata": {},
   "source": [
    "### Features & Variance with no Outliers"
   ]
  },
  {
   "cell_type": "code",
   "execution_count": 83,
   "metadata": {},
   "outputs": [
    {
     "name": "stdout",
     "output_type": "stream",
     "text": [
      "25% Quartile with no outlier include 13 features and explains 99.354% of the variance\n",
      "50% Quartile with no outlier include 9 features and explains 95.957% of the variance\n",
      "75% Quartile with no outlier include 5 features and explains 86.233% of the variance\n"
     ]
    }
   ],
   "source": [
    "print(f'25% Quartile with no outlier include {Perc25_NoOutlier[0]} features and explains {round(Perc25_NoOutlier[1]*100, 3)}% of the variance')\n",
    "print(f'50% Quartile with no outlier include {Perc50_NoOutlier[0]} features and explains {round(Perc50_NoOutlier[1]*100, 3)}% of the variance')\n",
    "print(f'75% Quartile with no outlier include {Perc75_NoOutlier[0]} features and explains {round(Perc75_NoOutlier[1]*100, 3)}% of the variance')"
   ]
  },
  {
   "cell_type": "markdown",
   "metadata": {},
   "source": [
    "### Features & Variance with Outliers"
   ]
  },
  {
   "cell_type": "code",
   "execution_count": 84,
   "metadata": {},
   "outputs": [
    {
     "name": "stdout",
     "output_type": "stream",
     "text": [
      "25% Quartile with outlier include 14 features and explains 99.906% of the variance\n",
      "50% Quartile with outlier include 10 features and explains 99.41% of the variance\n",
      "75% Quartile with outlier include 5 features and explains 97.506% of the variance\n"
     ]
    }
   ],
   "source": [
    "print(f'25% Quartile with outlier include {Perc25_WithOutlier[0]} features and explains {round(Perc25_WithOutlier[1]*100, 3)}% of the variance')\n",
    "print(f'50% Quartile with outlier include {Perc50_WithOutlier[0]} features and explains {round(Perc50_WithOutlier[1]*100, 3)}% of the variance')\n",
    "print(f'75% Quartile with outlier include {Perc75_WithOutlier[0]} features and explains {round(Perc75_WithOutlier[1]*100, 3)}% of the variance')"
   ]
  },
  {
   "cell_type": "markdown",
   "metadata": {},
   "source": [
    "# Top 25% Features"
   ]
  },
  {
   "cell_type": "code",
   "execution_count": 85,
   "metadata": {},
   "outputs": [
    {
     "data": {
      "text/plain": [
       "<BarContainer object of 9 artists>"
      ]
     },
     "execution_count": 85,
     "metadata": {},
     "output_type": "execute_result"
    },
    {
     "data": {
      "image/png": "[encoded data removed]",
      "text/plain": [
       "<Figure size 432x288 with 1 Axes>"
      ]
     },
     "metadata": {
      "needs_background": "light"
     },
     "output_type": "display_data"
    }
   ],
   "source": [
    "#Apply threshold to only use top 25% of features\n",
    "#threshold = desc['75%'] #Top 25% quartile\n",
    "threshold = desc['50%'] #Top 50% quartile\n",
    "#threshold = desc['25%'] #Top 75% quartile\n",
    "\n",
    "top_indices = np.argwhere(nz_importances > threshold)\n",
    "top_features = nz_features[top_indices].flatten()\n",
    "top_importances = nz_importances[top_indices].flatten()\n",
    "\n",
    "#Plot the data\n",
    "plt.xticks(rotation=90)\n",
    "plt.bar(top_features, top_importances, log=True)"
   ]
  },
  {
   "cell_type": "markdown",
   "metadata": {},
   "source": [
    "## Sort the data by size"
   ]
  },
  {
   "cell_type": "code",
   "execution_count": 86,
   "metadata": {},
   "outputs": [
    {
     "data": {
      "text/plain": [
       "<BarContainer object of 9 artists>"
      ]
     },
     "execution_count": 86,
     "metadata": {},
     "output_type": "execute_result"
    },
    {
     "data": {
      "image/png": "[encoded data removed]",
      "text/plain": [
       "<Figure size 432x288 with 1 Axes>"
      ]
     },
     "metadata": {
      "needs_background": "light"
     },
     "output_type": "display_data"
    }
   ],
   "source": [
    "sorted_indices = np.argsort(top_importances)\n",
    "sorted_features = top_features[sorted_indices]\n",
    "sorted_importances = top_importances[sorted_indices]\n",
    "\n",
    "#Plot the sorted values\n",
    "plt.xticks(rotation=90)\n",
    "plt.bar(sorted_features, sorted_importances, log=True)"
   ]
  },
  {
   "cell_type": "code",
   "execution_count": 87,
   "metadata": {},
   "outputs": [
    {
     "data": {
      "text/plain": [
       "array(['TorqueDelta', 'Hookload', 'DepthHoleTVD', 'TopDriveTorqueft_lbs',\n",
       "       'ADROPSetpointValue', 'Depth_Bit', 'RotaryRPM', 'PumpPressure',\n",
       "       'ROCKIT_RPMRW'], dtype=object)"
      ]
     },
     "execution_count": 87,
     "metadata": {},
     "output_type": "execute_result"
    }
   ],
   "source": [
    "sorted_features"
   ]
  },
  {
   "cell_type": "markdown",
   "metadata": {},
   "source": [
    "## Data Frame of Top Features"
   ]
  },
  {
   "cell_type": "code",
   "execution_count": 88,
   "metadata": {},
   "outputs": [],
   "source": [
    "reduced_features = features[sorted_features]"
   ]
  },
  {
   "cell_type": "code",
   "execution_count": 89,
   "metadata": {
    "scrolled": true
   },
   "outputs": [
    {
     "data": {
      "text/html": [
       "<div>\n",
       "<style scoped>\n",
       "    .dataframe tbody tr th:only-of-type {\n",
       "        vertical-align: middle;\n",
       "    }\n",
       "\n",
       "    .dataframe tbody tr th {\n",
       "        vertical-align: top;\n",
       "    }\n",
       "\n",
       "    .dataframe thead th {\n",
       "        text-align: right;\n",
       "    }\n",
       "</style>\n",
       "<table border=\"1\" class=\"dataframe\">\n",
       "  <thead>\n",
       "    <tr style=\"text-align: right;\">\n",
       "      <th></th>\n",
       "      <th>TorqueDelta</th>\n",
       "      <th>Hookload</th>\n",
       "      <th>DepthHoleTVD</th>\n",
       "      <th>TopDriveTorqueft_lbs</th>\n",
       "      <th>ADROPSetpointValue</th>\n",
       "      <th>Depth_Bit</th>\n",
       "      <th>RotaryRPM</th>\n",
       "      <th>PumpPressure</th>\n",
       "      <th>ROCKIT_RPMRW</th>\n",
       "    </tr>\n",
       "    <tr>\n",
       "      <th>ReportDateTime</th>\n",
       "      <th></th>\n",
       "      <th></th>\n",
       "      <th></th>\n",
       "      <th></th>\n",
       "      <th></th>\n",
       "      <th></th>\n",
       "      <th></th>\n",
       "      <th></th>\n",
       "      <th></th>\n",
       "    </tr>\n",
       "  </thead>\n",
       "  <tbody>\n",
       "    <tr>\n",
       "      <th>2018-07-19 19:27:20</th>\n",
       "      <td>8106.402832</td>\n",
       "      <td>126.568260</td>\n",
       "      <td>7699.095215</td>\n",
       "      <td>7801.826660</td>\n",
       "      <td>90.0</td>\n",
       "      <td>7699.096680</td>\n",
       "      <td>65.026100</td>\n",
       "      <td>2158.405273</td>\n",
       "      <td>65.0</td>\n",
       "    </tr>\n",
       "    <tr>\n",
       "      <th>2018-07-19 19:27:30</th>\n",
       "      <td>10024.226562</td>\n",
       "      <td>127.336578</td>\n",
       "      <td>7699.225098</td>\n",
       "      <td>8277.098633</td>\n",
       "      <td>90.0</td>\n",
       "      <td>7699.225098</td>\n",
       "      <td>64.834343</td>\n",
       "      <td>2163.194824</td>\n",
       "      <td>65.0</td>\n",
       "    </tr>\n",
       "  </tbody>\n",
       "</table>\n",
       "</div>"
      ],
      "text/plain": [
       "                      TorqueDelta    Hookload  DepthHoleTVD  \\\n",
       "ReportDateTime                                                \n",
       "2018-07-19 19:27:20   8106.402832  126.568260   7699.095215   \n",
       "2018-07-19 19:27:30  10024.226562  127.336578   7699.225098   \n",
       "\n",
       "                     TopDriveTorqueft_lbs  ADROPSetpointValue    Depth_Bit  \\\n",
       "ReportDateTime                                                               \n",
       "2018-07-19 19:27:20           7801.826660                90.0  7699.096680   \n",
       "2018-07-19 19:27:30           8277.098633                90.0  7699.225098   \n",
       "\n",
       "                     RotaryRPM  PumpPressure  ROCKIT_RPMRW  \n",
       "ReportDateTime                                              \n",
       "2018-07-19 19:27:20  65.026100   2158.405273          65.0  \n",
       "2018-07-19 19:27:30  64.834343   2163.194824          65.0  "
      ]
     },
     "execution_count": 89,
     "metadata": {},
     "output_type": "execute_result"
    }
   ],
   "source": [
    "reduced_features.head(2)"
   ]
  },
  {
   "cell_type": "code",
   "execution_count": 90,
   "metadata": {},
   "outputs": [],
   "source": [
    "#Put values in array for models\n",
    "X_reduced = reduced_features.values"
   ]
  },
  {
   "cell_type": "code",
   "execution_count": 91,
   "metadata": {},
   "outputs": [],
   "source": [
    "#dt_reduced = DecisionTreeClassifier(max_depth=5, min_samples_split=2)"
   ]
  },
  {
   "cell_type": "code",
   "execution_count": 92,
   "metadata": {},
   "outputs": [],
   "source": [
    "#dt_reduced.fit(X_reduced, y)"
   ]
  },
  {
   "cell_type": "code",
   "execution_count": 99,
   "metadata": {},
   "outputs": [
    {
     "data": {
      "text/plain": [
       "(690102,)"
      ]
     },
     "execution_count": 99,
     "metadata": {},
     "output_type": "execute_result"
    }
   ],
   "source": [
    "#Row count of lables\n",
    "labels.shape"
   ]
  },
  {
   "cell_type": "code",
   "execution_count": 100,
   "metadata": {},
   "outputs": [
    {
     "data": {
      "text/plain": [
       "(690102, 9)"
      ]
     },
     "execution_count": 100,
     "metadata": {},
     "output_type": "execute_result"
    }
   ],
   "source": [
    "#row count and column count of features\n",
    "reduced_features.shape"
   ]
  },
  {
   "cell_type": "code",
   "execution_count": 97,
   "metadata": {},
   "outputs": [
    {
     "data": {
      "text/html": [
       "<div>\n",
       "<style scoped>\n",
       "    .dataframe tbody tr th:only-of-type {\n",
       "        vertical-align: middle;\n",
       "    }\n",
       "\n",
       "    .dataframe tbody tr th {\n",
       "        vertical-align: top;\n",
       "    }\n",
       "\n",
       "    .dataframe thead th {\n",
       "        text-align: right;\n",
       "    }\n",
       "</style>\n",
       "<table border=\"1\" class=\"dataframe\">\n",
       "  <thead>\n",
       "    <tr style=\"text-align: right;\">\n",
       "      <th></th>\n",
       "      <th>TorqueDelta</th>\n",
       "      <th>Hookload</th>\n",
       "      <th>DepthHoleTVD</th>\n",
       "      <th>TopDriveTorqueft_lbs</th>\n",
       "      <th>ADROPSetpointValue</th>\n",
       "      <th>Depth_Bit</th>\n",
       "      <th>RotaryRPM</th>\n",
       "      <th>PumpPressure</th>\n",
       "      <th>ROCKIT_RPMRW</th>\n",
       "    </tr>\n",
       "    <tr>\n",
       "      <th>ReportDateTime</th>\n",
       "      <th></th>\n",
       "      <th></th>\n",
       "      <th></th>\n",
       "      <th></th>\n",
       "      <th></th>\n",
       "      <th></th>\n",
       "      <th></th>\n",
       "      <th></th>\n",
       "      <th></th>\n",
       "    </tr>\n",
       "  </thead>\n",
       "  <tbody>\n",
       "    <tr>\n",
       "      <th>2018-07-19 19:27:20</th>\n",
       "      <td>8106.402832</td>\n",
       "      <td>126.568260</td>\n",
       "      <td>7699.095215</td>\n",
       "      <td>7801.826660</td>\n",
       "      <td>90.0</td>\n",
       "      <td>7699.096680</td>\n",
       "      <td>65.026100</td>\n",
       "      <td>2158.405273</td>\n",
       "      <td>65.0</td>\n",
       "    </tr>\n",
       "    <tr>\n",
       "      <th>2018-07-19 19:27:30</th>\n",
       "      <td>10024.226562</td>\n",
       "      <td>127.336578</td>\n",
       "      <td>7699.225098</td>\n",
       "      <td>8277.098633</td>\n",
       "      <td>90.0</td>\n",
       "      <td>7699.225098</td>\n",
       "      <td>64.834343</td>\n",
       "      <td>2163.194824</td>\n",
       "      <td>65.0</td>\n",
       "    </tr>\n",
       "    <tr>\n",
       "      <th>2018-07-19 19:27:40</th>\n",
       "      <td>8812.617188</td>\n",
       "      <td>125.664368</td>\n",
       "      <td>7699.344727</td>\n",
       "      <td>9625.935547</td>\n",
       "      <td>90.0</td>\n",
       "      <td>7699.344727</td>\n",
       "      <td>64.834343</td>\n",
       "      <td>2161.829102</td>\n",
       "      <td>65.0</td>\n",
       "    </tr>\n",
       "    <tr>\n",
       "      <th>2018-07-19 19:27:50</th>\n",
       "      <td>7748.275391</td>\n",
       "      <td>125.867737</td>\n",
       "      <td>7699.515625</td>\n",
       "      <td>8477.918945</td>\n",
       "      <td>90.0</td>\n",
       "      <td>7699.522461</td>\n",
       "      <td>64.983490</td>\n",
       "      <td>2163.212402</td>\n",
       "      <td>65.0</td>\n",
       "    </tr>\n",
       "    <tr>\n",
       "      <th>2018-07-19 19:28:00</th>\n",
       "      <td>8467.876953</td>\n",
       "      <td>125.144623</td>\n",
       "      <td>7699.599121</td>\n",
       "      <td>6720.750000</td>\n",
       "      <td>90.0</td>\n",
       "      <td>7699.608398</td>\n",
       "      <td>65.079369</td>\n",
       "      <td>2173.481201</td>\n",
       "      <td>65.0</td>\n",
       "    </tr>\n",
       "  </tbody>\n",
       "</table>\n",
       "</div>"
      ],
      "text/plain": [
       "                      TorqueDelta    Hookload  DepthHoleTVD  \\\n",
       "ReportDateTime                                                \n",
       "2018-07-19 19:27:20   8106.402832  126.568260   7699.095215   \n",
       "2018-07-19 19:27:30  10024.226562  127.336578   7699.225098   \n",
       "2018-07-19 19:27:40   8812.617188  125.664368   7699.344727   \n",
       "2018-07-19 19:27:50   7748.275391  125.867737   7699.515625   \n",
       "2018-07-19 19:28:00   8467.876953  125.144623   7699.599121   \n",
       "\n",
       "                     TopDriveTorqueft_lbs  ADROPSetpointValue    Depth_Bit  \\\n",
       "ReportDateTime                                                               \n",
       "2018-07-19 19:27:20           7801.826660                90.0  7699.096680   \n",
       "2018-07-19 19:27:30           8277.098633                90.0  7699.225098   \n",
       "2018-07-19 19:27:40           9625.935547                90.0  7699.344727   \n",
       "2018-07-19 19:27:50           8477.918945                90.0  7699.522461   \n",
       "2018-07-19 19:28:00           6720.750000                90.0  7699.608398   \n",
       "\n",
       "                     RotaryRPM  PumpPressure  ROCKIT_RPMRW  \n",
       "ReportDateTime                                              \n",
       "2018-07-19 19:27:20  65.026100   2158.405273          65.0  \n",
       "2018-07-19 19:27:30  64.834343   2163.194824          65.0  \n",
       "2018-07-19 19:27:40  64.834343   2161.829102          65.0  \n",
       "2018-07-19 19:27:50  64.983490   2163.212402          65.0  \n",
       "2018-07-19 19:28:00  65.079369   2173.481201          65.0  "
      ]
     },
     "execution_count": 97,
     "metadata": {},
     "output_type": "execute_result"
    }
   ],
   "source": [
    "reduced_features.head(2)"
   ]
  },
  {
   "cell_type": "markdown",
   "metadata": {},
   "source": [
    "### Function to set Classifeir Window"
   ]
  },
  {
   "cell_type": "code",
   "execution_count": 141,
   "metadata": {},
   "outputs": [],
   "source": [
    "#Function to set classifer window\n",
    "def window(features, labels, window_len=4):\n",
    "    X, y = [], []\n",
    "    for i in range(features.shape[0] - window_len):\n",
    "        start_idx = i\n",
    "        stop_idx = start_idx + window_len\n",
    "\n",
    "        window_X = features[start_idx:stop_idx, :]\n",
    "        window_y = labels[stop_idx]\n",
    "\n",
    "        X.append(window_X)\n",
    "        y.append(window_y)\n",
    "\n",
    "    return np.array(X), np.array(y)"
   ]
  },
  {
   "cell_type": "markdown",
   "metadata": {},
   "source": [
    "### Classification"
   ]
  },
  {
   "cell_type": "code",
   "execution_count": 93,
   "metadata": {},
   "outputs": [],
   "source": [
    "#Standard Scaler object\n",
    "scaler = StandardScaler()"
   ]
  },
  {
   "cell_type": "code",
   "execution_count": 94,
   "metadata": {},
   "outputs": [],
   "source": [
    "#Apply standard scaler to X-reduced data set\n",
    "X_scaled = scaler.fit_transform(X_reduced)"
   ]
  },
  {
   "cell_type": "code",
   "execution_count": 144,
   "metadata": {},
   "outputs": [],
   "source": [
    "#set window scale\n",
    "window_len = 10\n",
    "X_windowed, y_windowed = window(X_scaled, y, window_len)"
   ]
  },
  {
   "cell_type": "code",
   "execution_count": 145,
   "metadata": {},
   "outputs": [
    {
     "data": {
      "text/plain": [
       "(690092, 10, 9)"
      ]
     },
     "execution_count": 145,
     "metadata": {},
     "output_type": "execute_result"
    }
   ],
   "source": [
    "X_windowed.shape"
   ]
  },
  {
   "cell_type": "code",
   "execution_count": 157,
   "metadata": {},
   "outputs": [
    {
     "data": {
      "text/plain": [
       "90"
      ]
     },
     "execution_count": 157,
     "metadata": {},
     "output_type": "execute_result"
    }
   ],
   "source": [
    "#count on to flatten features to 2 dimensions\n",
    "feat_dims = X_windowed.shape[1:]\n",
    "flat_feat_len = np.product(feat_dims)\n",
    "flat_feat_len"
   ]
  },
  {
   "cell_type": "code",
   "execution_count": 158,
   "metadata": {
    "scrolled": true
   },
   "outputs": [],
   "source": [
    "#create train split data\n",
    "X_train, X_test, y_train, y_test =  train_test_split(X_windowed, y_windowed, train_size=0.8, shuffle=False)\n",
    "\n",
    "#Flatten the train and test data set\n",
    "X_train = X_train.reshape((-1, flat_feat_len))\n",
    "X_test = X_test.reshape((-1, flat_feat_len))"
   ]
  },
  {
   "cell_type": "code",
   "execution_count": 159,
   "metadata": {},
   "outputs": [
    {
     "data": {
      "text/plain": [
       "(552073, 90)"
      ]
     },
     "execution_count": 159,
     "metadata": {},
     "output_type": "execute_result"
    }
   ],
   "source": [
    "X_train.shape"
   ]
  },
  {
   "cell_type": "code",
   "execution_count": null,
   "metadata": {},
   "outputs": [],
   "source": []
  },
  {
   "cell_type": "code",
   "execution_count": 95,
   "metadata": {},
   "outputs": [],
   "source": [
    "### SVM Grid Search if needed after inital model is run"
   ]
  },
  {
   "cell_type": "code",
   "execution_count": 160,
   "metadata": {},
   "outputs": [],
   "source": [
    "svm = SVC()"
   ]
  },
  {
   "cell_type": "code",
   "execution_count": null,
   "metadata": {},
   "outputs": [],
   "source": [
    "#Metrics to compare models\n",
    "#Metrics: Accuracy, F1, ROC"
   ]
  },
  {
   "cell_type": "code",
   "execution_count": null,
   "metadata": {},
   "outputs": [],
   "source": [
    "the last n-1 quant with the current quant => the next state of the drilling"
   ]
  },
  {
   "cell_type": "code",
   "execution_count": null,
   "metadata": {},
   "outputs": [],
   "source": [
    "the current quant => the current state of the drilling"
   ]
  },
  {
   "cell_type": "code",
   "execution_count": null,
   "metadata": {},
   "outputs": [],
   "source": [
    "window_lens =  [2, 4, 6, 8, 10]\n",
    "\n",
    "for w_len in window_lens:\n",
    "    # Do grid search here"
   ]
  },
  {
   "cell_type": "code",
   "execution_count": null,
   "metadata": {},
   "outputs": [],
   "source": []
  },
  {
   "cell_type": "code",
   "execution_count": null,
   "metadata": {},
   "outputs": [],
   "source": []
  }
 ],
 "metadata": {
  "kernelspec": {
   "display_name": "Python 3",
   "language": "python",
   "name": "python3"
  },
  "language_info": {
   "codemirror_mode": {
    "name": "ipython",
    "version": 3
   },
   "file_extension": ".py",
   "mimetype": "text/x-python",
   "name": "python",
   "nbconvert_exporter": "python",
   "pygments_lexer": "ipython3",
   "version": "3.7.3"
  }
 },
 "nbformat": 4,
 "nbformat_minor": 2
}
