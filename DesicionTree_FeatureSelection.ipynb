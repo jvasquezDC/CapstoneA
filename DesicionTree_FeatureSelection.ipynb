{
 "cells": [
  {
   "cell_type": "code",
   "execution_count": 1,
   "metadata": {},
   "outputs": [],
   "source": [
    "#Import modules\n",
    "import pyodbc\n",
    "import pandas as pd\n",
    "import numpy as np\n",
    "\n",
    "import matplotlib.pyplot as plt\n",
    "import seaborn as sns\n",
    "\n",
    "from sklearn.model_selection import GridSearchCV\n",
    "from sklearn.tree import DecisionTreeClassifier\n",
    "from sklearn.preprocessing import StandardScaler"
   ]
  },
  {
   "cell_type": "code",
   "execution_count": 2,
   "metadata": {},
   "outputs": [],
   "source": [
    "#Connect to DB\n",
    "conn = pyodbc.connect('Driver={SQL Server};'\n",
    "                      'Server=jvsql02;'\n",
    "                      'Database=ML;'\n",
    "                      'Trusted_Connection=yes;')\n",
    "\n",
    "#Select the data from the table\n",
    "SQL_Query = pd.read_sql_query(\n",
    "'''select * from ML.dbo.TCR_ML_WELLS_Time_Analysis_Full''', conn)"
   ]
  },
  {
   "cell_type": "code",
   "execution_count": 3,
   "metadata": {},
   "outputs": [],
   "source": [
    "#Convert the query to a data frame\n",
    "df = pd.DataFrame(SQL_Query, columns=              \n",
    "    [\n",
    "        'WellName','ReportDateTime','AccumulatedConnectionTime','AccumulatedFillupStrokes','AccumulatedFillupVolume'\n",
    ",'ADAutoDrillerRunning','ADAuxiliary1','ADAuxiliary2','ADAuxiliary3','ADAuxiliary4','ADAuxiliary5'\n",
    ",'ADDifferentialPressureActualValue','ADDifferentialPressureLimitValue','ADDifferentialPressureSetpointValue','ADDPEnabled'\n",
    ",'ADHookloadSlider','ADROPActualValue','ADROPCruiseControlEnabled','ADROPSetpointValue','ADSPPSlider','ADSystemEnabled'\n",
    ",'ADWOBActualValue','ADWOBEnabled','ADWOBLimitValue','ADWOBSetpointValue','BitArea','BitNozzleTotalFlowArea','BitRPM'\n",
    ",'BitTime_OffBottom','BitTime_OnBottom','BlockPosition','CasingPressure','CoilEngaged','ConnectionCounter'\n",
    ",'CurrentConnectionTime','Date','DateDateOnly','DateTimeOnly','Depth_Bit','DepthHoleTVD','DifferentialPressure'\n",
    ",'DrillCabTDSUTemp','DrillMode','DynamicVariable06','DynamicVariable09','DynamicVariable10','EC1Active','EC1ActivityCode1'\n",
    ",'EC1ActivityCode2','EC1ActivityCode3','EC1ActivityCode4','EC1ActivityCode5','EC1Authorized','EC1DPModeOn','EC1DPModeOnReq'\n",
    ",'EC1DPSPActual','EC1DPSPRecommended','EC1Ready','EC1ROPSPActual','EC1ROPSPRecommended','EC1WOBModeOn','EC1WOBModeOnReq'\n",
    ",'EC1WOBSPActual','EC1WOBSPRecommended','FlowIn','GasTotal_units','H2S04','H2S08','H2S09','H2S11','Hookload'\n",
    ",'HookloadInline','HookloadString','JobPumpVolumeTotal','JobStrokesTotal','LagDepthGas','LEL01','LEL02','LEL03','LEL04'\n",
    ",'LEL05','LEL06','LEL07','LEL08','LEL09','LEL10','LEL11','LEL12','MudMotorRPM','MWDAzimuth'\n",
    ",'MWDContinuousInclination','MWDGammaAPI','MWDInclination','MWDSrvToolfaceAdvisory','MWDSrvToolfaceLimits'\n",
    ",'OnBottom','OverPull','Pit01Volume','Pit02Volume','Pit03Volume','Pit04Volume','Pit05GL','Pit06Volume','Pit07Volume'\n",
    ",'PitGLActive','PitGLCompanyMan','PitGLMudLogger','PitGLMWD','PitGLSignature','PitVolumeActive','PitVolumeTotal'\n",
    ",'PLCStatus','PreviousConnectionTime','PumpOffTime','PumpOnTime','PumpPressure','PumpsOn','PumpVolumeTotal','ReturnFlow'\n",
    ",'ReturnFlowDetected','REVitEnabled','REVitUsageAlert','ROCKIT_BearingActualRW','ROCKIT_HITRQLeft','ROCKIT_HITRQLeftPercent'\n",
    ",'ROCKIT_HITRQRight','ROCKIT_HITRQRightPercent','ROCKIT_OnOff','ROCKIT_OscillationLeftRW','ROCKIT_OscillationRightRW'\n",
    ",'ROCKIT_PILOTOnOff','ROCKIT_ResultantToolface','ROCKIT_RPMRW','ROCKIT_ScoreCardRW','ROCKIT_SlidetoMDRW','ROCKIT_TFtoRW'\n",
    ",'ROP5xDepthhour','ROPDepth_StepDepthHour','ROPDepthHour','ROPMax','ROPMinuteDepth','ROPTimeDepthHour','RotaryRPM'\n",
    ",'RunningSpeedDown','RunningSpeedUp','SeperatorFlow','SlipsSet','SPM1','SPM2','SPMTotal','StaticInjectorForce'\n",
    ",'STCfActualNm_Sec','STKfActualNm','Strokes1','Strokes1CompanyMan','Strokes2','Strokes2CompanyMan','StrokesTotal'\n",
    ",'StrokesTotalCompanyMan','StrokesTotalMudLogger','TDOilSensorBypassAlarm','TDOilType','TDPLCAlarm1','TDPLCAlarm4'\n",
    ",'TDQuillPosition','TDS_AmbientTemperature','TDS_BrakeTemperature','TDS_HPUOilTankTemperature','TDS_HydraulicTemperature'\n",
    ",'TDS_LowerBearingTemp','TDS_LubeOilAfterFilterPres','TDS_LubeOilPressure','TDS_LubeOilTemperature'\n",
    ",'TDS_MotorWindingTemperature1','TDS_MotorWindingTemperature2','TDS_MotorWindingTemperature3ACOnly'\n",
    ",'TDS_OilPressureAcrosstheFilter','TDS_UpperBearingTemp','TDSRotaryTorqueLimit','TDTorqueInline','TongMakeupStartPressure'\n",
    ",'TonMilesEventCumulative','TonMilesMegajoules','TopDriveRPM','TopDriveRPMCommand','TopDriveTorqueCommand'\n",
    ",'TopDriveTorqueft_lbs','TorqueDelta','TorqueTare','TripGL','TripGLCompanyMan','TripGLSignature','TripModeAccumulation'\n",
    ",'TripModeFillupStrokes','TripVolumeActive','UnderPull','VFDVariable10','VFDVariable9','WeightonBit'\n",
    "            ])"
   ]
  },
  {
   "cell_type": "code",
   "execution_count": 4,
   "metadata": {},
   "outputs": [],
   "source": [
    "df.drop([ 'AccumulatedFillupStrokes', 'AccumulatedFillupVolume', 'ADAuxiliary2', 'ADAuxiliary3', 'ADAuxiliary4', 'ADAuxiliary5', 'BitArea', 'BitNozzleTotalFlowArea', 'CoilEngaged', 'CurrentConnectionTime'\n",
    ", 'DrillMode', 'DynamicVariable09', 'EC1Active', 'EC1ActivityCode1', 'EC1ActivityCode2', 'EC1ActivityCode3', 'EC1ActivityCode4', 'EC1ActivityCode5', 'EC1Authorized', 'EC1DPModeOn', 'EC1DPModeOnReq'\n",
    ", 'EC1DPSPActual', 'EC1DPSPRecommended', 'EC1Ready', 'EC1ROPSPActual', 'EC1ROPSPRecommended', 'EC1WOBModeOn', 'EC1WOBModeOnReq', 'EC1WOBSPActual', 'EC1WOBSPRecommended', 'H2S08', 'H2S09'\n",
    ", 'HookloadInline', 'LEL01', 'LEL03', 'LEL05', 'LEL06', 'LEL08', 'LEL09', 'LEL10', 'LEL12', 'MudMotorRPM', 'OnBottom', 'PLCStatus', 'REVitEnabled', 'REVitUsageAlert', 'ROCKIT_PILOTOnOff', 'SlipsSet'\n",
    ", 'StaticInjectorForce', 'STCfActualNm_Sec', 'STKfActualNm', 'TDOilSensorBypassAlarm', 'TDOilType', 'TDTorqueInline', 'TongMakeupStartPressure', 'TorqueTare', 'UnderPull', 'VFDVariable10', 'VFDVariable9'\n",
    ", 'H2S04', 'LEL02', 'LEL11', 'SeperatorFlow', 'H2S11', 'Date', 'DateDateOnly', 'DateTimeOnly', 'AccumulatedConnectionTime', 'ADAutoDrillerRunning', 'ADDPEnabled', 'ADROPCruiseControlEnabled', 'ADSystemEnabled', 'ADWOBEnabled'\n",
    ", 'ReportDateTime', 'TripModeAccumulation', 'TripModeFillupStrokes'\n",
    "        ], axis=1, inplace=True)\n",
    "\n",
    "#, 'WellName'"
   ]
  },
  {
   "cell_type": "code",
   "execution_count": 5,
   "metadata": {},
   "outputs": [],
   "source": [
    "df.drop(['WellName'], axis=1, inplace=True)"
   ]
  },
  {
   "cell_type": "code",
   "execution_count": 6,
   "metadata": {},
   "outputs": [
    {
     "data": {
      "text/plain": [
       "(725789, 122)"
      ]
     },
     "execution_count": 6,
     "metadata": {},
     "output_type": "execute_result"
    }
   ],
   "source": [
    "#see the dimensions of the data\n",
    "df.shape"
   ]
  },
  {
   "cell_type": "code",
   "execution_count": 7,
   "metadata": {},
   "outputs": [
    {
     "data": {
      "text/html": [
       "<div>\n",
       "<style scoped>\n",
       "    .dataframe tbody tr th:only-of-type {\n",
       "        vertical-align: middle;\n",
       "    }\n",
       "\n",
       "    .dataframe tbody tr th {\n",
       "        vertical-align: top;\n",
       "    }\n",
       "\n",
       "    .dataframe thead th {\n",
       "        text-align: right;\n",
       "    }\n",
       "</style>\n",
       "<table border=\"1\" class=\"dataframe\">\n",
       "  <thead>\n",
       "    <tr style=\"text-align: right;\">\n",
       "      <th></th>\n",
       "      <th>ADAuxiliary1</th>\n",
       "      <th>ADDifferentialPressureActualValue</th>\n",
       "      <th>ADDifferentialPressureLimitValue</th>\n",
       "      <th>ADDifferentialPressureSetpointValue</th>\n",
       "      <th>ADHookloadSlider</th>\n",
       "      <th>ADROPActualValue</th>\n",
       "      <th>ADROPSetpointValue</th>\n",
       "      <th>ADSPPSlider</th>\n",
       "      <th>ADWOBActualValue</th>\n",
       "      <th>ADWOBLimitValue</th>\n",
       "      <th>...</th>\n",
       "      <th>TopDriveRPM</th>\n",
       "      <th>TopDriveRPMCommand</th>\n",
       "      <th>TopDriveTorqueCommand</th>\n",
       "      <th>TopDriveTorqueft_lbs</th>\n",
       "      <th>TorqueDelta</th>\n",
       "      <th>TripGL</th>\n",
       "      <th>TripGLCompanyMan</th>\n",
       "      <th>TripGLSignature</th>\n",
       "      <th>TripVolumeActive</th>\n",
       "      <th>WeightonBit</th>\n",
       "    </tr>\n",
       "  </thead>\n",
       "  <tbody>\n",
       "    <tr>\n",
       "      <th>0</th>\n",
       "      <td>65.026100</td>\n",
       "      <td>260.875885</td>\n",
       "      <td>850.0</td>\n",
       "      <td>420.0</td>\n",
       "      <td>1.0</td>\n",
       "      <td>13.85443</td>\n",
       "      <td>90.0</td>\n",
       "      <td>1.0</td>\n",
       "      <td>21.675610</td>\n",
       "      <td>32.0</td>\n",
       "      <td>...</td>\n",
       "      <td>65.068710</td>\n",
       "      <td>65.068710</td>\n",
       "      <td>7801.826660</td>\n",
       "      <td>7801.826660</td>\n",
       "      <td>8106.402832</td>\n",
       "      <td>2.75318</td>\n",
       "      <td>-36.650749</td>\n",
       "      <td>3.614740e+09</td>\n",
       "      <td>3.62847</td>\n",
       "      <td>22.928080</td>\n",
       "    </tr>\n",
       "    <tr>\n",
       "      <th>1</th>\n",
       "      <td>64.834343</td>\n",
       "      <td>238.689758</td>\n",
       "      <td>850.0</td>\n",
       "      <td>420.0</td>\n",
       "      <td>1.0</td>\n",
       "      <td>67.49762</td>\n",
       "      <td>90.0</td>\n",
       "      <td>1.0</td>\n",
       "      <td>22.071711</td>\n",
       "      <td>32.0</td>\n",
       "      <td>...</td>\n",
       "      <td>64.994141</td>\n",
       "      <td>64.994141</td>\n",
       "      <td>8277.098633</td>\n",
       "      <td>8277.098633</td>\n",
       "      <td>10024.226562</td>\n",
       "      <td>2.73727</td>\n",
       "      <td>-36.666672</td>\n",
       "      <td>3.614740e+09</td>\n",
       "      <td>3.61256</td>\n",
       "      <td>22.223921</td>\n",
       "    </tr>\n",
       "  </tbody>\n",
       "</table>\n",
       "<p>2 rows × 122 columns</p>\n",
       "</div>"
      ],
      "text/plain": [
       "   ADAuxiliary1  ADDifferentialPressureActualValue  \\\n",
       "0     65.026100                         260.875885   \n",
       "1     64.834343                         238.689758   \n",
       "\n",
       "   ADDifferentialPressureLimitValue  ADDifferentialPressureSetpointValue  \\\n",
       "0                             850.0                                420.0   \n",
       "1                             850.0                                420.0   \n",
       "\n",
       "   ADHookloadSlider  ADROPActualValue  ADROPSetpointValue  ADSPPSlider  \\\n",
       "0               1.0          13.85443                90.0          1.0   \n",
       "1               1.0          67.49762                90.0          1.0   \n",
       "\n",
       "   ADWOBActualValue  ADWOBLimitValue  ...  TopDriveRPM  TopDriveRPMCommand  \\\n",
       "0         21.675610             32.0  ...    65.068710           65.068710   \n",
       "1         22.071711             32.0  ...    64.994141           64.994141   \n",
       "\n",
       "   TopDriveTorqueCommand  TopDriveTorqueft_lbs   TorqueDelta   TripGL  \\\n",
       "0            7801.826660           7801.826660   8106.402832  2.75318   \n",
       "1            8277.098633           8277.098633  10024.226562  2.73727   \n",
       "\n",
       "   TripGLCompanyMan  TripGLSignature  TripVolumeActive  WeightonBit  \n",
       "0        -36.650749     3.614740e+09           3.62847    22.928080  \n",
       "1        -36.666672     3.614740e+09           3.61256    22.223921  \n",
       "\n",
       "[2 rows x 122 columns]"
      ]
     },
     "execution_count": 7,
     "metadata": {},
     "output_type": "execute_result"
    }
   ],
   "source": [
    "#Show first 5 rows of data\n",
    "df.head(2)"
   ]
  },
  {
   "cell_type": "markdown",
   "metadata": {},
   "source": [
    "## Create Features and Labels"
   ]
  },
  {
   "cell_type": "code",
   "execution_count": 47,
   "metadata": {},
   "outputs": [],
   "source": [
    "features = df.dropna().drop([label_column], axis=1)\n",
    "#features = df.dropna().drop([label_column, 'ROCKIT_RPMRW'], axis=1)\n",
    "labels = df.dropna()[label_column]\n",
    "\n",
    "X = features.values\n",
    "y = labels.values"
   ]
  },
  {
   "cell_type": "markdown",
   "metadata": {},
   "source": [
    "# Grid Search"
   ]
  },
  {
   "cell_type": "code",
   "execution_count": 48,
   "metadata": {},
   "outputs": [],
   "source": [
    "params = {'max_depth':[5, 10, 15], 'min_samples_split':[2, 4, 8]}\n",
    "\n",
    "clf = DecisionTreeClassifier()\n",
    "\n",
    "grid = GridSearchCV(clf, params, cv=10)"
   ]
  },
  {
   "cell_type": "code",
   "execution_count": 49,
   "metadata": {},
   "outputs": [
    {
     "data": {
      "text/plain": [
       "GridSearchCV(cv=10, error_score='raise-deprecating',\n",
       "       estimator=DecisionTreeClassifier(class_weight=None, criterion='gini', max_depth=None,\n",
       "            max_features=None, max_leaf_nodes=None,\n",
       "            min_impurity_decrease=0.0, min_impurity_split=None,\n",
       "            min_samples_leaf=1, min_samples_split=2,\n",
       "            min_weight_fraction_leaf=0.0, presort=False, random_state=None,\n",
       "            splitter='best'),\n",
       "       fit_params=None, iid='warn', n_jobs=None,\n",
       "       param_grid={'max_depth': [5, 10, 15], 'min_samples_split': [2, 4, 8]},\n",
       "       pre_dispatch='2*n_jobs', refit=True, return_train_score='warn',\n",
       "       scoring=None, verbose=0)"
      ]
     },
     "execution_count": 49,
     "metadata": {},
     "output_type": "execute_result"
    }
   ],
   "source": [
    "#To run on small sample set\n",
    "#grid.fit(X[:500], y[:500])\n",
    "\n",
    "#to run on full data set\n",
    "grid.fit(X, y)"
   ]
  },
  {
   "cell_type": "code",
   "execution_count": 50,
   "metadata": {},
   "outputs": [
    {
     "data": {
      "text/plain": [
       "DecisionTreeClassifier(class_weight=None, criterion='gini', max_depth=5,\n",
       "            max_features=None, max_leaf_nodes=None,\n",
       "            min_impurity_decrease=0.0, min_impurity_split=None,\n",
       "            min_samples_leaf=1, min_samples_split=2,\n",
       "            min_weight_fraction_leaf=0.0, presort=False, random_state=None,\n",
       "            splitter='best')"
      ]
     },
     "execution_count": 50,
     "metadata": {},
     "output_type": "execute_result"
    }
   ],
   "source": [
    "best_dt = grid.best_estimator_\n",
    "best_dt"
   ]
  },
  {
   "cell_type": "code",
   "execution_count": 51,
   "metadata": {},
   "outputs": [
    {
     "data": {
      "text/plain": [
       "{'max_depth': 5, 'min_samples_split': 2}"
      ]
     },
     "execution_count": 51,
     "metadata": {},
     "output_type": "execute_result"
    }
   ],
   "source": [
    "grid.best_params_"
   ]
  },
  {
   "cell_type": "markdown",
   "metadata": {},
   "source": [
    "### Best paramaters are {'max_depth': 5, 'min_samples_split': 2}"
   ]
  },
  {
   "cell_type": "markdown",
   "metadata": {},
   "source": [
    "# Apply best param to feature selection\n",
    "## Create Labels"
   ]
  },
  {
   "cell_type": "code",
   "execution_count": 52,
   "metadata": {},
   "outputs": [],
   "source": [
    "label_column =  'ROCKIT_OnOff'\n",
    "\n",
    "#fill in max depth and min samples with above numbers\n",
    "dt = DecisionTreeClassifier(max_depth=5, min_samples_split=2)\n",
    "#After grid search is done you can use the object for descion tree fits\n",
    "#dt = grid.best_estimator_"
   ]
  },
  {
   "cell_type": "code",
   "execution_count": 53,
   "metadata": {},
   "outputs": [
    {
     "data": {
      "text/plain": [
       "DecisionTreeClassifier(class_weight=None, criterion='gini', max_depth=5,\n",
       "            max_features=None, max_leaf_nodes=None,\n",
       "            min_impurity_decrease=0.0, min_impurity_split=None,\n",
       "            min_samples_leaf=1, min_samples_split=2,\n",
       "            min_weight_fraction_leaf=0.0, presort=False, random_state=None,\n",
       "            splitter='best')"
      ]
     },
     "execution_count": 53,
     "metadata": {},
     "output_type": "execute_result"
    }
   ],
   "source": [
    "dt.fit(X, y)"
   ]
  },
  {
   "cell_type": "markdown",
   "metadata": {},
   "source": [
    "# Create indices\n",
    "### Non zero importances"
   ]
  },
  {
   "cell_type": "code",
   "execution_count": 54,
   "metadata": {},
   "outputs": [],
   "source": [
    "#index feature importance\n",
    "feature_importances = dt.feature_importances_\n",
    "\n",
    "#Get non zero indicies to filter with\n",
    "nz_indices = np.argwhere(feature_importances > 0)\n",
    "nz_features = features.columns[nz_indices].values.flatten()\n",
    "nz_importances = feature_importances[nz_indices].flatten()"
   ]
  },
  {
   "cell_type": "code",
   "execution_count": 55,
   "metadata": {},
   "outputs": [
    {
     "name": "stdout",
     "output_type": "stream",
     "text": [
      "Max non-zero feature name = ROCKIT_RPMRW\n",
      "Max non-zero feature value = 0.8541623398246567\n"
     ]
    }
   ],
   "source": [
    "#Find the most importance features number\n",
    "#nz_features[ np.argmax(nz_importances) ]\n",
    "#nz_importances.max()\n",
    "\n",
    "print(\"Max non-zero feature name = \"+ nz_features[ np.argmax(nz_importances) ])\n",
    "print(\"Max non-zero feature value = %s\" % nz_importances.max())"
   ]
  },
  {
   "cell_type": "markdown",
   "metadata": {},
   "source": [
    "### Top quartiles analysis"
   ]
  },
  {
   "cell_type": "code",
   "execution_count": 56,
   "metadata": {},
   "outputs": [
    {
     "data": {
      "text/plain": [
       "count    21.000000\n",
       "mean      0.047619\n",
       "std       0.185206\n",
       "min       0.000045\n",
       "25%       0.000486\n",
       "50%       0.002963\n",
       "75%       0.004866\n",
       "max       0.854162\n",
       "dtype: float64"
      ]
     },
     "execution_count": 56,
     "metadata": {},
     "output_type": "execute_result"
    }
   ],
   "source": [
    "imp = pd.Series(nz_importances)\n",
    "desc = imp.describe()\n",
    "desc"
   ]
  },
  {
   "cell_type": "code",
   "execution_count": 57,
   "metadata": {},
   "outputs": [],
   "source": [
    "#Function to run percent analysis\n",
    "def rank(imp, perc, remove_outlier=True):\n",
    "    if remove_outlier:\n",
    "        imp = imp[imp < imp.max()]\n",
    "   \n",
    "    desc = imp.describe()\n",
    "    if type(perc) == str:\n",
    "        top = imp[ imp >=  desc[perc]]\n",
    "    else:\n",
    "        top = imp[ imp >= perc]\n",
    "    \n",
    "    # N top features\n",
    "    n_top = top.shape[0]\n",
    "    \n",
    "    # Total variation explanation\n",
    "    var_expl = top.sum() / imp.sum()\n",
    "    \n",
    "    return n_top, var_expl"
   ]
  },
  {
   "cell_type": "markdown",
   "metadata": {},
   "source": [
    "### Save the features and variance to object"
   ]
  },
  {
   "cell_type": "code",
   "execution_count": 58,
   "metadata": {},
   "outputs": [],
   "source": [
    "#Create variables that shows features and variances\n",
    "#Number of features, fractioned explained by variance\n",
    "\n",
    "# True (default) = removes outlier\n",
    "# False = Keeps outlier\n",
    "\n",
    "Perc25_NoOutlier = rank(imp, '25%')\n",
    "Perc50_NoOutlier = rank(imp, '50%')\n",
    "Perc75_NoOutlier = rank(imp, '75%')\n",
    "\n",
    "\n",
    "Perc25_WithOutlier = rank(imp, '25%', False)\n",
    "Perc50_WithOutlier = rank(imp, '50%', False)\n",
    "Perc75_WithOutlier = rank(imp, '75%', False)"
   ]
  },
  {
   "cell_type": "markdown",
   "metadata": {},
   "source": [
    "### Features & Variance with no Outliers"
   ]
  },
  {
   "cell_type": "code",
   "execution_count": 59,
   "metadata": {},
   "outputs": [
    {
     "name": "stdout",
     "output_type": "stream",
     "text": [
      "25% Quartile with no outlier include 15 features and explains 99.354% of the variance\n",
      "50% Quartile with no outlier include 10 features and explains 95.624% of the variance\n",
      "75% Quartile with no outlier include 5 features and explains 82.95% of the variance\n"
     ]
    }
   ],
   "source": [
    "print(f'25% Quartile with no outlier include {Perc25_NoOutlier[0]} features and explains {round(Perc25_NoOutlier[1]*100, 3)}% of the variance')\n",
    "print(f'50% Quartile with no outlier include {Perc50_NoOutlier[0]} features and explains {round(Perc50_NoOutlier[1]*100, 3)}% of the variance')\n",
    "print(f'75% Quartile with no outlier include {Perc75_NoOutlier[0]} features and explains {round(Perc75_NoOutlier[1]*100, 3)}% of the variance')"
   ]
  },
  {
   "cell_type": "markdown",
   "metadata": {},
   "source": [
    "### Features & Variance with Outliers"
   ]
  },
  {
   "cell_type": "code",
   "execution_count": 60,
   "metadata": {},
   "outputs": [
    {
     "name": "stdout",
     "output_type": "stream",
     "text": [
      "25% Quartile with outlier include 16 features and explains 99.906% of the variance\n",
      "50% Quartile with outlier include 11 features and explains 99.362% of the variance\n",
      "75% Quartile with outlier include 6 features and explains 97.513% of the variance\n"
     ]
    }
   ],
   "source": [
    "print(f'25% Quartile with outlier include {Perc25_WithOutlier[0]} features and explains {round(Perc25_WithOutlier[1]*100, 3)}% of the variance')\n",
    "print(f'50% Quartile with outlier include {Perc50_WithOutlier[0]} features and explains {round(Perc50_WithOutlier[1]*100, 3)}% of the variance')\n",
    "print(f'75% Quartile with outlier include {Perc75_WithOutlier[0]} features and explains {round(Perc75_WithOutlier[1]*100, 3)}% of the variance')"
   ]
  },
  {
   "cell_type": "markdown",
   "metadata": {},
   "source": [
    "# Top 25% Features"
   ]
  },
  {
   "cell_type": "code",
   "execution_count": 61,
   "metadata": {},
   "outputs": [
    {
     "data": {
      "text/plain": [
       "<BarContainer object of 5 artists>"
      ]
     },
     "execution_count": 61,
     "metadata": {},
     "output_type": "execute_result"
    },
    {
     "data": {
      "image/png": "[encoded data removed]",
      "text/plain": [
       "<Figure size 432x288 with 1 Axes>"
      ]
     },
     "metadata": {
      "needs_background": "light"
     },
     "output_type": "display_data"
    }
   ],
   "source": [
    "#Apply threshold to only use top 25% of features\n",
    "threshold = desc['75%']\n",
    "\n",
    "top_indices = np.argwhere(nz_importances > threshold)\n",
    "top_features = nz_features[top_indices].flatten()\n",
    "top_importances = nz_importances[top_indices].flatten()\n",
    "\n",
    "#Plot the data\n",
    "plt.xticks(rotation=90)\n",
    "plt.bar(top_features, top_importances, log=True)"
   ]
  },
  {
   "cell_type": "markdown",
   "metadata": {},
   "source": [
    "## Sort the data by size"
   ]
  },
  {
   "cell_type": "code",
   "execution_count": 62,
   "metadata": {},
   "outputs": [
    {
     "data": {
      "text/plain": [
       "<BarContainer object of 5 artists>"
      ]
     },
     "execution_count": 62,
     "metadata": {},
     "output_type": "execute_result"
    },
    {
     "data": {
      "image/png": "[encoded data removed]",
      "text/plain": [
       "<Figure size 432x288 with 1 Axes>"
      ]
     },
     "metadata": {
      "needs_background": "light"
     },
     "output_type": "display_data"
    }
   ],
   "source": [
    "sorted_indices = np.argsort(top_importances)\n",
    "sorted_features = top_features[sorted_indices]\n",
    "sorted_importances = top_importances[sorted_indices]\n",
    "\n",
    "#Plot the sorted values\n",
    "plt.xticks(rotation=90)\n",
    "plt.bar(sorted_features, sorted_importances, log=True)"
   ]
  },
  {
   "cell_type": "code",
   "execution_count": 63,
   "metadata": {},
   "outputs": [
    {
     "data": {
      "text/plain": [
       "array(['ADROPSetpointValue', 'Depth_Bit', 'ADAuxiliary1', 'PumpPressure',\n",
       "       'ROCKIT_RPMRW'], dtype=object)"
      ]
     },
     "execution_count": 63,
     "metadata": {},
     "output_type": "execute_result"
    }
   ],
   "source": [
    "sorted_features"
   ]
  },
  {
   "cell_type": "markdown",
   "metadata": {},
   "source": [
    "## Data Frame of Top Features"
   ]
  },
  {
   "cell_type": "code",
   "execution_count": 64,
   "metadata": {},
   "outputs": [],
   "source": [
    "reduced_features = features[sorted_features]"
   ]
  },
  {
   "cell_type": "code",
   "execution_count": 65,
   "metadata": {},
   "outputs": [
    {
     "data": {
      "text/html": [
       "<div>\n",
       "<style scoped>\n",
       "    .dataframe tbody tr th:only-of-type {\n",
       "        vertical-align: middle;\n",
       "    }\n",
       "\n",
       "    .dataframe tbody tr th {\n",
       "        vertical-align: top;\n",
       "    }\n",
       "\n",
       "    .dataframe thead th {\n",
       "        text-align: right;\n",
       "    }\n",
       "</style>\n",
       "<table border=\"1\" class=\"dataframe\">\n",
       "  <thead>\n",
       "    <tr style=\"text-align: right;\">\n",
       "      <th></th>\n",
       "      <th>ADROPSetpointValue</th>\n",
       "      <th>Depth_Bit</th>\n",
       "      <th>ADAuxiliary1</th>\n",
       "      <th>PumpPressure</th>\n",
       "      <th>ROCKIT_RPMRW</th>\n",
       "    </tr>\n",
       "  </thead>\n",
       "  <tbody>\n",
       "    <tr>\n",
       "      <th>0</th>\n",
       "      <td>90.0</td>\n",
       "      <td>7699.096680</td>\n",
       "      <td>65.026100</td>\n",
       "      <td>2158.405273</td>\n",
       "      <td>65.0</td>\n",
       "    </tr>\n",
       "    <tr>\n",
       "      <th>1</th>\n",
       "      <td>90.0</td>\n",
       "      <td>7699.225098</td>\n",
       "      <td>64.834343</td>\n",
       "      <td>2163.194824</td>\n",
       "      <td>65.0</td>\n",
       "    </tr>\n",
       "  </tbody>\n",
       "</table>\n",
       "</div>"
      ],
      "text/plain": [
       "   ADROPSetpointValue    Depth_Bit  ADAuxiliary1  PumpPressure  ROCKIT_RPMRW\n",
       "0                90.0  7699.096680     65.026100   2158.405273          65.0\n",
       "1                90.0  7699.225098     64.834343   2163.194824          65.0"
      ]
     },
     "execution_count": 65,
     "metadata": {},
     "output_type": "execute_result"
    }
   ],
   "source": [
    "reduced_features.head(2)"
   ]
  },
  {
   "cell_type": "code",
   "execution_count": 66,
   "metadata": {},
   "outputs": [],
   "source": [
    "#Put values in array for models\n",
    "X_reduced = reduced_features.values"
   ]
  },
  {
   "cell_type": "code",
   "execution_count": 35,
   "metadata": {},
   "outputs": [],
   "source": [
    "#dt_reduced = DecisionTreeClassifier(max_depth=5, min_samples_split=2)"
   ]
  },
  {
   "cell_type": "code",
   "execution_count": 67,
   "metadata": {},
   "outputs": [
    {
     "data": {
      "text/plain": [
       "DecisionTreeClassifier(class_weight=None, criterion='gini', max_depth=5,\n",
       "            max_features=None, max_leaf_nodes=None,\n",
       "            min_impurity_decrease=0.0, min_impurity_split=None,\n",
       "            min_samples_leaf=1, min_samples_split=2,\n",
       "            min_weight_fraction_leaf=0.0, presort=False, random_state=None,\n",
       "            splitter='best')"
      ]
     },
     "execution_count": 67,
     "metadata": {},
     "output_type": "execute_result"
    }
   ],
   "source": [
    "dt_reduced.fit(X_reduced, y)"
   ]
  },
  {
   "cell_type": "markdown",
   "metadata": {},
   "source": [
    "### Classification"
   ]
  },
  {
   "cell_type": "code",
   "execution_count": 68,
   "metadata": {},
   "outputs": [],
   "source": [
    "from sklearn.preprocessing import StandardScaler, MinMaxScaler"
   ]
  },
  {
   "cell_type": "code",
   "execution_count": 69,
   "metadata": {},
   "outputs": [],
   "source": [
    "scaler = StandardScaler()"
   ]
  },
  {
   "cell_type": "code",
   "execution_count": 70,
   "metadata": {},
   "outputs": [],
   "source": [
    "X_scaled = scaler.fit_transform(X_reduced)"
   ]
  },
  {
   "cell_type": "code",
   "execution_count": null,
   "metadata": {},
   "outputs": [],
   "source": [
    "### SVM Grid Search if needed after inital model is run"
   ]
  },
  {
   "cell_type": "code",
   "execution_count": null,
   "metadata": {},
   "outputs": [],
   "source": []
  },
  {
   "cell_type": "code",
   "execution_count": null,
   "metadata": {},
   "outputs": [],
   "source": []
  },
  {
   "cell_type": "code",
   "execution_count": 44,
   "metadata": {},
   "outputs": [
    {
     "data": {
      "text/html": [
       "<div>\n",
       "<style scoped>\n",
       "    .dataframe tbody tr th:only-of-type {\n",
       "        vertical-align: middle;\n",
       "    }\n",
       "\n",
       "    .dataframe tbody tr th {\n",
       "        vertical-align: top;\n",
       "    }\n",
       "\n",
       "    .dataframe thead th {\n",
       "        text-align: right;\n",
       "    }\n",
       "</style>\n",
       "<table border=\"1\" class=\"dataframe\">\n",
       "  <thead>\n",
       "    <tr style=\"text-align: right;\">\n",
       "      <th></th>\n",
       "      <th>0</th>\n",
       "      <th>1</th>\n",
       "      <th>2</th>\n",
       "      <th>3</th>\n",
       "      <th>4</th>\n",
       "    </tr>\n",
       "  </thead>\n",
       "  <tbody>\n",
       "    <tr>\n",
       "      <th>count</th>\n",
       "      <td>6.901020e+05</td>\n",
       "      <td>6.901020e+05</td>\n",
       "      <td>6.901020e+05</td>\n",
       "      <td>6.901020e+05</td>\n",
       "      <td>6.901020e+05</td>\n",
       "    </tr>\n",
       "    <tr>\n",
       "      <th>mean</th>\n",
       "      <td>-2.063071e-13</td>\n",
       "      <td>1.322064e-16</td>\n",
       "      <td>9.367092e-15</td>\n",
       "      <td>5.365417e-16</td>\n",
       "      <td>1.071938e-14</td>\n",
       "    </tr>\n",
       "    <tr>\n",
       "      <th>std</th>\n",
       "      <td>1.000001e+00</td>\n",
       "      <td>1.000001e+00</td>\n",
       "      <td>1.000001e+00</td>\n",
       "      <td>1.000001e+00</td>\n",
       "      <td>1.000001e+00</td>\n",
       "    </tr>\n",
       "    <tr>\n",
       "      <th>min</th>\n",
       "      <td>-1.499015e+00</td>\n",
       "      <td>-4.378369e+00</td>\n",
       "      <td>-2.547142e+00</td>\n",
       "      <td>-4.769917e+00</td>\n",
       "      <td>-5.027631e+00</td>\n",
       "    </tr>\n",
       "    <tr>\n",
       "      <th>25%</th>\n",
       "      <td>-7.619245e-01</td>\n",
       "      <td>-7.052550e-01</td>\n",
       "      <td>-6.339568e-01</td>\n",
       "      <td>-5.767676e-01</td>\n",
       "      <td>-3.228317e-01</td>\n",
       "    </tr>\n",
       "    <tr>\n",
       "      <th>50%</th>\n",
       "      <td>-1.827818e-01</td>\n",
       "      <td>2.159166e-02</td>\n",
       "      <td>2.883994e-01</td>\n",
       "      <td>2.164160e-01</td>\n",
       "      <td>3.943633e-01</td>\n",
       "    </tr>\n",
       "    <tr>\n",
       "      <th>75%</th>\n",
       "      <td>5.016595e-01</td>\n",
       "      <td>7.408969e-01</td>\n",
       "      <td>7.515915e-01</td>\n",
       "      <td>7.007963e-01</td>\n",
       "      <td>6.812413e-01</td>\n",
       "    </tr>\n",
       "    <tr>\n",
       "      <th>max</th>\n",
       "      <td>1.324280e+01</td>\n",
       "      <td>4.332099e+01</td>\n",
       "      <td>3.550378e+00</td>\n",
       "      <td>1.869418e+00</td>\n",
       "      <td>1.541875e+00</td>\n",
       "    </tr>\n",
       "  </tbody>\n",
       "</table>\n",
       "</div>"
      ],
      "text/plain": [
       "                  0             1             2             3             4\n",
       "count  6.901020e+05  6.901020e+05  6.901020e+05  6.901020e+05  6.901020e+05\n",
       "mean  -2.063071e-13  1.322064e-16  9.367092e-15  5.365417e-16  1.071938e-14\n",
       "std    1.000001e+00  1.000001e+00  1.000001e+00  1.000001e+00  1.000001e+00\n",
       "min   -1.499015e+00 -4.378369e+00 -2.547142e+00 -4.769917e+00 -5.027631e+00\n",
       "25%   -7.619245e-01 -7.052550e-01 -6.339568e-01 -5.767676e-01 -3.228317e-01\n",
       "50%   -1.827818e-01  2.159166e-02  2.883994e-01  2.164160e-01  3.943633e-01\n",
       "75%    5.016595e-01  7.408969e-01  7.515915e-01  7.007963e-01  6.812413e-01\n",
       "max    1.324280e+01  4.332099e+01  3.550378e+00  1.869418e+00  1.541875e+00"
      ]
     },
     "execution_count": 44,
     "metadata": {},
     "output_type": "execute_result"
    }
   ],
   "source": [
    "pd.DataFrame(X_scaled).describe()"
   ]
  },
  {
   "cell_type": "code",
   "execution_count": null,
   "metadata": {},
   "outputs": [],
   "source": []
  },
  {
   "cell_type": "code",
   "execution_count": null,
   "metadata": {},
   "outputs": [],
   "source": []
  },
  {
   "cell_type": "code",
   "execution_count": null,
   "metadata": {},
   "outputs": [],
   "source": []
  },
  {
   "cell_type": "code",
   "execution_count": null,
   "metadata": {},
   "outputs": [],
   "source": []
  },
  {
   "cell_type": "code",
   "execution_count": 46,
   "metadata": {},
   "outputs": [],
   "source": [
    "from sklearn.svm import SVC"
   ]
  },
  {
   "cell_type": "code",
   "execution_count": null,
   "metadata": {},
   "outputs": [],
   "source": [
    "svm = SVC()"
   ]
  },
  {
   "cell_type": "code",
   "execution_count": null,
   "metadata": {},
   "outputs": [],
   "source": []
  },
  {
   "cell_type": "code",
   "execution_count": null,
   "metadata": {},
   "outputs": [],
   "source": []
  },
  {
   "cell_type": "code",
   "execution_count": null,
   "metadata": {},
   "outputs": [],
   "source": [
    "#Metrics to compare models\n",
    "#Metrics: Accuracy, F1, ROC"
   ]
  },
  {
   "cell_type": "code",
   "execution_count": null,
   "metadata": {},
   "outputs": [],
   "source": []
  }
 ],
 "metadata": {
  "kernelspec": {
   "display_name": "Python 3",
   "language": "python",
   "name": "python3"
  },
  "language_info": {
   "codemirror_mode": {
    "name": "ipython",
    "version": 3
   },
   "file_extension": ".py",
   "mimetype": "text/x-python",
   "name": "python",
   "nbconvert_exporter": "python",
   "pygments_lexer": "ipython3",
   "version": "3.7.3"
  }
 },
 "nbformat": 4,
 "nbformat_minor": 2
}
