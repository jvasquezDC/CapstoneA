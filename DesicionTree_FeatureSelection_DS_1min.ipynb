{
 "cells": [
  {
   "cell_type": "code",
   "execution_count": 1,
   "metadata": {},
   "outputs": [],
   "source": [
    "#Import modules\n",
    "import pyodbc\n",
    "import pandas as pd\n",
    "import numpy as np\n",
    "\n",
    "import matplotlib.pyplot as plt\n",
    "from matplotlib import pyplot\n",
    "\n",
    "import seaborn as sns\n",
    "\n",
    "from sklearn import svm\n",
    "from sklearn import metrics\n",
    "from sklearn.model_selection import GridSearchCV\n",
    "from sklearn.model_selection import train_test_split\n",
    "from sklearn.svm import SVC\n",
    "from sklearn.tree import DecisionTreeClassifier\n",
    "from sklearn.preprocessing import StandardScaler, MinMaxScaler\n",
    "from sklearn.utils import shuffle\n",
    "from sklearn.metrics import classification_report, confusion_matrix\n",
    "from sklearn.metrics import roc_curve\n",
    "from sklearn.metrics import roc_auc_score\n",
    "from sklearn.linear_model import LogisticRegression\n",
    "from sklearn.ensemble import RandomForestRegressor, RandomForestClassifier\n",
    "\n",
    "import warnings\n",
    "warnings.filterwarnings('ignore')\n",
    "\n",
    "#1 = Sliding\n",
    "#0 = Rotating"
   ]
  },
  {
   "cell_type": "markdown",
   "metadata": {},
   "source": [
    "# Engels Questions\n",
    "\n",
    "## What is error\n",
    "## How do we show the event prior to the event\n",
    "## Quantative measurement based on time and depth\n",
    "## Time series\n",
    "\n",
    "## start model on just time then distance or vice versus then maybe both if needed\n",
    "\n",
    "## want to be early on prediction and never late\n",
    "## use absolute time differential before concentrating \n",
    "#\n"
   ]
  },
  {
   "cell_type": "markdown",
   "metadata": {},
   "source": [
    "# Data Import"
   ]
  },
  {
   "cell_type": "code",
   "execution_count": 2,
   "metadata": {},
   "outputs": [],
   "source": [
    "#Connect to DB\n",
    "conn = pyodbc.connect('Driver={SQL Server};'\n",
    "                      #'Server=DESKTOP-LFP2E23\\SQLEXPRESS;'\n",
    "                      'Server=jvsql02;'\n",
    "                      'Database=ML;'\n",
    "                      'Trusted_Connection=yes;')\n",
    "\n",
    "#Select the data from the table\n",
    "SQL_Query = pd.read_sql_query(\n",
    "'''select * from ML.dbo.TCR_ML_WELLS_Time_Analysis_Full''', conn)"
   ]
  },
  {
   "cell_type": "code",
   "execution_count": 3,
   "metadata": {},
   "outputs": [],
   "source": [
    "#Convert the query to a data frame\n",
    "df_raw = pd.DataFrame(SQL_Query, columns=              \n",
    "    [\n",
    "        'WellName','ReportDateTime','AccumulatedConnectionTime','AccumulatedFillupStrokes','AccumulatedFillupVolume'\n",
    ",'ADAutoDrillerRunning','ADAuxiliary1','ADAuxiliary2','ADAuxiliary3','ADAuxiliary4','ADAuxiliary5'\n",
    ",'ADDifferentialPressureActualValue','ADDifferentialPressureLimitValue','ADDifferentialPressureSetpointValue','ADDPEnabled'\n",
    ",'ADHookloadSlider','ADROPActualValue','ADROPCruiseControlEnabled','ADROPSetpointValue','ADSPPSlider','ADSystemEnabled'\n",
    ",'ADWOBActualValue','ADWOBEnabled','ADWOBLimitValue','ADWOBSetpointValue','BitArea','BitNozzleTotalFlowArea','BitRPM'\n",
    ",'BitTime_OffBottom','BitTime_OnBottom','BlockPosition','CasingPressure','CoilEngaged','ConnectionCounter'\n",
    ",'CurrentConnectionTime','Date','DateDateOnly','DateTimeOnly','Depth_Bit','DepthHoleTVD','DifferentialPressure'\n",
    ",'DrillCabTDSUTemp','DrillMode','DynamicVariable06','DynamicVariable09','DynamicVariable10','EC1Active','EC1ActivityCode1'\n",
    ",'EC1ActivityCode2','EC1ActivityCode3','EC1ActivityCode4','EC1ActivityCode5','EC1Authorized','EC1DPModeOn','EC1DPModeOnReq'\n",
    ",'EC1DPSPActual','EC1DPSPRecommended','EC1Ready','EC1ROPSPActual','EC1ROPSPRecommended','EC1WOBModeOn','EC1WOBModeOnReq'\n",
    ",'EC1WOBSPActual','EC1WOBSPRecommended','FlowIn','GasTotal_units','H2S04','H2S08','H2S09','H2S11','Hookload'\n",
    ",'HookloadInline','HookloadString','JobPumpVolumeTotal','JobStrokesTotal','LagDepthGas','LEL01','LEL02','LEL03','LEL04'\n",
    ",'LEL05','LEL06','LEL07','LEL08','LEL09','LEL10','LEL11','LEL12','MudMotorRPM','MWDAzimuth'\n",
    ",'MWDContinuousInclination','MWDGammaAPI','MWDInclination','MWDSrvToolfaceAdvisory','MWDSrvToolfaceLimits'\n",
    ",'OnBottom','OverPull','Pit01Volume','Pit02Volume','Pit03Volume','Pit04Volume','Pit05GL','Pit06Volume','Pit07Volume'\n",
    ",'PitGLActive','PitGLCompanyMan','PitGLMudLogger','PitGLMWD','PitGLSignature','PitVolumeActive','PitVolumeTotal'\n",
    ",'PLCStatus','PreviousConnectionTime','PumpOffTime','PumpOnTime','PumpPressure','PumpsOn','PumpVolumeTotal','ReturnFlow'\n",
    ",'ReturnFlowDetected','REVitEnabled','REVitUsageAlert','ROCKIT_BearingActualRW','ROCKIT_HITRQLeft','ROCKIT_HITRQLeftPercent'\n",
    ",'ROCKIT_HITRQRight','ROCKIT_HITRQRightPercent','ROCKIT_OnOff','ROCKIT_OscillationLeftRW','ROCKIT_OscillationRightRW'\n",
    ",'ROCKIT_PILOTOnOff','ROCKIT_ResultantToolface','ROCKIT_RPMRW','ROCKIT_ScoreCardRW','ROCKIT_SlidetoMDRW','ROCKIT_TFtoRW'\n",
    ",'ROP5xDepthhour','ROPDepth_StepDepthHour','ROPDepthHour','ROPMax','ROPMinuteDepth','ROPTimeDepthHour','RotaryRPM'\n",
    ",'RunningSpeedDown','RunningSpeedUp','SeperatorFlow','SlipsSet','SPM1','SPM2','SPMTotal','StaticInjectorForce'\n",
    ",'STCfActualNm_Sec','STKfActualNm','Strokes1','Strokes1CompanyMan','Strokes2','Strokes2CompanyMan','StrokesTotal'\n",
    ",'StrokesTotalCompanyMan','StrokesTotalMudLogger','TDOilSensorBypassAlarm','TDOilType','TDPLCAlarm1','TDPLCAlarm4'\n",
    ",'TDQuillPosition','TDS_AmbientTemperature','TDS_BrakeTemperature','TDS_HPUOilTankTemperature','TDS_HydraulicTemperature'\n",
    ",'TDS_LowerBearingTemp','TDS_LubeOilAfterFilterPres','TDS_LubeOilPressure','TDS_LubeOilTemperature'\n",
    ",'TDS_MotorWindingTemperature1','TDS_MotorWindingTemperature2','TDS_MotorWindingTemperature3ACOnly'\n",
    ",'TDS_OilPressureAcrosstheFilter','TDS_UpperBearingTemp','TDSRotaryTorqueLimit','TDTorqueInline','TongMakeupStartPressure'\n",
    ",'TonMilesEventCumulative','TonMilesMegajoules','TopDriveRPM','TopDriveRPMCommand','TopDriveTorqueCommand'\n",
    ",'TopDriveTorqueft_lbs','TorqueDelta','TorqueTare','TripGL','TripGLCompanyMan','TripGLSignature','TripModeAccumulation'\n",
    ",'TripModeFillupStrokes','TripVolumeActive','UnderPull','VFDVariable10','VFDVariable9','WeightonBit'\n",
    "            ])\n",
    "\n"
   ]
  },
  {
   "cell_type": "code",
   "execution_count": 4,
   "metadata": {
    "scrolled": true
   },
   "outputs": [
    {
     "data": {
      "text/html": [
       "<div>\n",
       "<style scoped>\n",
       "    .dataframe tbody tr th:only-of-type {\n",
       "        vertical-align: middle;\n",
       "    }\n",
       "\n",
       "    .dataframe tbody tr th {\n",
       "        vertical-align: top;\n",
       "    }\n",
       "\n",
       "    .dataframe thead th {\n",
       "        text-align: right;\n",
       "    }\n",
       "</style>\n",
       "<table border=\"1\" class=\"dataframe\">\n",
       "  <thead>\n",
       "    <tr style=\"text-align: right;\">\n",
       "      <th></th>\n",
       "      <th>WellName</th>\n",
       "      <th>ReportDateTime</th>\n",
       "      <th>AccumulatedConnectionTime</th>\n",
       "      <th>AccumulatedFillupStrokes</th>\n",
       "      <th>AccumulatedFillupVolume</th>\n",
       "      <th>ADAutoDrillerRunning</th>\n",
       "      <th>ADAuxiliary1</th>\n",
       "      <th>ADAuxiliary2</th>\n",
       "      <th>ADAuxiliary3</th>\n",
       "      <th>ADAuxiliary4</th>\n",
       "      <th>...</th>\n",
       "      <th>TripGL</th>\n",
       "      <th>TripGLCompanyMan</th>\n",
       "      <th>TripGLSignature</th>\n",
       "      <th>TripModeAccumulation</th>\n",
       "      <th>TripModeFillupStrokes</th>\n",
       "      <th>TripVolumeActive</th>\n",
       "      <th>UnderPull</th>\n",
       "      <th>VFDVariable10</th>\n",
       "      <th>VFDVariable9</th>\n",
       "      <th>WeightonBit</th>\n",
       "    </tr>\n",
       "  </thead>\n",
       "  <tbody>\n",
       "    <tr>\n",
       "      <th>0</th>\n",
       "      <td>LANGE_A_N048HM_TIME.csv</td>\n",
       "      <td>2018-07-19 19:27:20</td>\n",
       "      <td>3.613368e+09</td>\n",
       "      <td>0.0</td>\n",
       "      <td>0.0</td>\n",
       "      <td>-1.0</td>\n",
       "      <td>65.026100</td>\n",
       "      <td>60.0</td>\n",
       "      <td>0.0</td>\n",
       "      <td>256.0</td>\n",
       "      <td>...</td>\n",
       "      <td>2.75318</td>\n",
       "      <td>-36.650749</td>\n",
       "      <td>3.614740e+09</td>\n",
       "      <td>0.0</td>\n",
       "      <td>0.0</td>\n",
       "      <td>3.62847</td>\n",
       "      <td>0.0</td>\n",
       "      <td>0.0</td>\n",
       "      <td>0.0</td>\n",
       "      <td>22.928080</td>\n",
       "    </tr>\n",
       "    <tr>\n",
       "      <th>1</th>\n",
       "      <td>LANGE_A_N048HM_TIME.csv</td>\n",
       "      <td>2018-07-19 19:27:30</td>\n",
       "      <td>3.613368e+09</td>\n",
       "      <td>0.0</td>\n",
       "      <td>0.0</td>\n",
       "      <td>-1.0</td>\n",
       "      <td>64.834343</td>\n",
       "      <td>60.0</td>\n",
       "      <td>0.0</td>\n",
       "      <td>256.0</td>\n",
       "      <td>...</td>\n",
       "      <td>2.73727</td>\n",
       "      <td>-36.666672</td>\n",
       "      <td>3.614740e+09</td>\n",
       "      <td>0.0</td>\n",
       "      <td>0.0</td>\n",
       "      <td>3.61256</td>\n",
       "      <td>0.0</td>\n",
       "      <td>0.0</td>\n",
       "      <td>0.0</td>\n",
       "      <td>22.223921</td>\n",
       "    </tr>\n",
       "  </tbody>\n",
       "</table>\n",
       "<p>2 rows × 199 columns</p>\n",
       "</div>"
      ],
      "text/plain": [
       "                  WellName      ReportDateTime  AccumulatedConnectionTime  \\\n",
       "0  LANGE_A_N048HM_TIME.csv 2018-07-19 19:27:20               3.613368e+09   \n",
       "1  LANGE_A_N048HM_TIME.csv 2018-07-19 19:27:30               3.613368e+09   \n",
       "\n",
       "   AccumulatedFillupStrokes  AccumulatedFillupVolume  ADAutoDrillerRunning  \\\n",
       "0                       0.0                      0.0                  -1.0   \n",
       "1                       0.0                      0.0                  -1.0   \n",
       "\n",
       "   ADAuxiliary1  ADAuxiliary2  ADAuxiliary3  ADAuxiliary4  ...   TripGL  \\\n",
       "0     65.026100          60.0           0.0         256.0  ...  2.75318   \n",
       "1     64.834343          60.0           0.0         256.0  ...  2.73727   \n",
       "\n",
       "   TripGLCompanyMan  TripGLSignature  TripModeAccumulation  \\\n",
       "0        -36.650749     3.614740e+09                   0.0   \n",
       "1        -36.666672     3.614740e+09                   0.0   \n",
       "\n",
       "   TripModeFillupStrokes  TripVolumeActive  UnderPull  VFDVariable10  \\\n",
       "0                    0.0           3.62847        0.0            0.0   \n",
       "1                    0.0           3.61256        0.0            0.0   \n",
       "\n",
       "   VFDVariable9  WeightonBit  \n",
       "0           0.0    22.928080  \n",
       "1           0.0    22.223921  \n",
       "\n",
       "[2 rows x 199 columns]"
      ]
     },
     "execution_count": 4,
     "metadata": {},
     "output_type": "execute_result"
    }
   ],
   "source": [
    "df_raw.head(2)"
   ]
  },
  {
   "cell_type": "markdown",
   "metadata": {},
   "source": [
    "### Create Index Column"
   ]
  },
  {
   "cell_type": "code",
   "execution_count": 5,
   "metadata": {},
   "outputs": [
    {
     "data": {
      "text/html": [
       "<div>\n",
       "<style scoped>\n",
       "    .dataframe tbody tr th:only-of-type {\n",
       "        vertical-align: middle;\n",
       "    }\n",
       "\n",
       "    .dataframe tbody tr th {\n",
       "        vertical-align: top;\n",
       "    }\n",
       "\n",
       "    .dataframe thead th {\n",
       "        text-align: right;\n",
       "    }\n",
       "</style>\n",
       "<table border=\"1\" class=\"dataframe\">\n",
       "  <thead>\n",
       "    <tr style=\"text-align: right;\">\n",
       "      <th></th>\n",
       "      <th>WellName</th>\n",
       "      <th>AccumulatedConnectionTime</th>\n",
       "      <th>AccumulatedFillupStrokes</th>\n",
       "      <th>AccumulatedFillupVolume</th>\n",
       "      <th>ADAutoDrillerRunning</th>\n",
       "      <th>ADAuxiliary1</th>\n",
       "      <th>ADAuxiliary2</th>\n",
       "      <th>ADAuxiliary3</th>\n",
       "      <th>ADAuxiliary4</th>\n",
       "      <th>ADAuxiliary5</th>\n",
       "      <th>...</th>\n",
       "      <th>TripGL</th>\n",
       "      <th>TripGLCompanyMan</th>\n",
       "      <th>TripGLSignature</th>\n",
       "      <th>TripModeAccumulation</th>\n",
       "      <th>TripModeFillupStrokes</th>\n",
       "      <th>TripVolumeActive</th>\n",
       "      <th>UnderPull</th>\n",
       "      <th>VFDVariable10</th>\n",
       "      <th>VFDVariable9</th>\n",
       "      <th>WeightonBit</th>\n",
       "    </tr>\n",
       "    <tr>\n",
       "      <th>ReportDateTime</th>\n",
       "      <th></th>\n",
       "      <th></th>\n",
       "      <th></th>\n",
       "      <th></th>\n",
       "      <th></th>\n",
       "      <th></th>\n",
       "      <th></th>\n",
       "      <th></th>\n",
       "      <th></th>\n",
       "      <th></th>\n",
       "      <th></th>\n",
       "      <th></th>\n",
       "      <th></th>\n",
       "      <th></th>\n",
       "      <th></th>\n",
       "      <th></th>\n",
       "      <th></th>\n",
       "      <th></th>\n",
       "      <th></th>\n",
       "      <th></th>\n",
       "      <th></th>\n",
       "    </tr>\n",
       "  </thead>\n",
       "  <tbody>\n",
       "    <tr>\n",
       "      <th>2018-07-19 19:27:20</th>\n",
       "      <td>LANGE_A_N048HM_TIME.csv</td>\n",
       "      <td>3.613368e+09</td>\n",
       "      <td>0.0</td>\n",
       "      <td>0.0</td>\n",
       "      <td>-1.0</td>\n",
       "      <td>65.026100</td>\n",
       "      <td>60.0</td>\n",
       "      <td>0.0</td>\n",
       "      <td>256.0</td>\n",
       "      <td>42.0</td>\n",
       "      <td>...</td>\n",
       "      <td>2.75318</td>\n",
       "      <td>-36.650749</td>\n",
       "      <td>3.614740e+09</td>\n",
       "      <td>0.0</td>\n",
       "      <td>0.0</td>\n",
       "      <td>3.62847</td>\n",
       "      <td>0.0</td>\n",
       "      <td>0.0</td>\n",
       "      <td>0.0</td>\n",
       "      <td>22.928080</td>\n",
       "    </tr>\n",
       "    <tr>\n",
       "      <th>2018-07-19 19:27:30</th>\n",
       "      <td>LANGE_A_N048HM_TIME.csv</td>\n",
       "      <td>3.613368e+09</td>\n",
       "      <td>0.0</td>\n",
       "      <td>0.0</td>\n",
       "      <td>-1.0</td>\n",
       "      <td>64.834343</td>\n",
       "      <td>60.0</td>\n",
       "      <td>0.0</td>\n",
       "      <td>256.0</td>\n",
       "      <td>42.0</td>\n",
       "      <td>...</td>\n",
       "      <td>2.73727</td>\n",
       "      <td>-36.666672</td>\n",
       "      <td>3.614740e+09</td>\n",
       "      <td>0.0</td>\n",
       "      <td>0.0</td>\n",
       "      <td>3.61256</td>\n",
       "      <td>0.0</td>\n",
       "      <td>0.0</td>\n",
       "      <td>0.0</td>\n",
       "      <td>22.223921</td>\n",
       "    </tr>\n",
       "    <tr>\n",
       "      <th>2018-07-19 19:27:40</th>\n",
       "      <td>LANGE_A_N048HM_TIME.csv</td>\n",
       "      <td>3.613368e+09</td>\n",
       "      <td>0.0</td>\n",
       "      <td>0.0</td>\n",
       "      <td>-1.0</td>\n",
       "      <td>64.834343</td>\n",
       "      <td>60.0</td>\n",
       "      <td>0.0</td>\n",
       "      <td>256.0</td>\n",
       "      <td>42.0</td>\n",
       "      <td>...</td>\n",
       "      <td>2.75318</td>\n",
       "      <td>-36.650749</td>\n",
       "      <td>3.614740e+09</td>\n",
       "      <td>0.0</td>\n",
       "      <td>0.0</td>\n",
       "      <td>3.62847</td>\n",
       "      <td>0.0</td>\n",
       "      <td>0.0</td>\n",
       "      <td>0.0</td>\n",
       "      <td>22.717220</td>\n",
       "    </tr>\n",
       "    <tr>\n",
       "      <th>2018-07-19 19:27:50</th>\n",
       "      <td>LANGE_A_N048HM_TIME.csv</td>\n",
       "      <td>3.613368e+09</td>\n",
       "      <td>0.0</td>\n",
       "      <td>0.0</td>\n",
       "      <td>-1.0</td>\n",
       "      <td>64.983490</td>\n",
       "      <td>60.0</td>\n",
       "      <td>0.0</td>\n",
       "      <td>256.0</td>\n",
       "      <td>42.0</td>\n",
       "      <td>...</td>\n",
       "      <td>2.75318</td>\n",
       "      <td>-36.650749</td>\n",
       "      <td>3.614740e+09</td>\n",
       "      <td>0.0</td>\n",
       "      <td>0.0</td>\n",
       "      <td>3.62847</td>\n",
       "      <td>0.0</td>\n",
       "      <td>0.0</td>\n",
       "      <td>0.0</td>\n",
       "      <td>22.890190</td>\n",
       "    </tr>\n",
       "    <tr>\n",
       "      <th>2018-07-19 19:28:00</th>\n",
       "      <td>LANGE_A_N048HM_TIME.csv</td>\n",
       "      <td>3.613368e+09</td>\n",
       "      <td>0.0</td>\n",
       "      <td>0.0</td>\n",
       "      <td>-1.0</td>\n",
       "      <td>65.079369</td>\n",
       "      <td>60.0</td>\n",
       "      <td>0.0</td>\n",
       "      <td>256.0</td>\n",
       "      <td>42.0</td>\n",
       "      <td>...</td>\n",
       "      <td>2.75318</td>\n",
       "      <td>-36.650749</td>\n",
       "      <td>3.614740e+09</td>\n",
       "      <td>0.0</td>\n",
       "      <td>0.0</td>\n",
       "      <td>3.62847</td>\n",
       "      <td>0.0</td>\n",
       "      <td>0.0</td>\n",
       "      <td>0.0</td>\n",
       "      <td>22.669729</td>\n",
       "    </tr>\n",
       "  </tbody>\n",
       "</table>\n",
       "<p>5 rows × 198 columns</p>\n",
       "</div>"
      ],
      "text/plain": [
       "                                    WellName  AccumulatedConnectionTime  \\\n",
       "ReportDateTime                                                            \n",
       "2018-07-19 19:27:20  LANGE_A_N048HM_TIME.csv               3.613368e+09   \n",
       "2018-07-19 19:27:30  LANGE_A_N048HM_TIME.csv               3.613368e+09   \n",
       "2018-07-19 19:27:40  LANGE_A_N048HM_TIME.csv               3.613368e+09   \n",
       "2018-07-19 19:27:50  LANGE_A_N048HM_TIME.csv               3.613368e+09   \n",
       "2018-07-19 19:28:00  LANGE_A_N048HM_TIME.csv               3.613368e+09   \n",
       "\n",
       "                     AccumulatedFillupStrokes  AccumulatedFillupVolume  \\\n",
       "ReportDateTime                                                           \n",
       "2018-07-19 19:27:20                       0.0                      0.0   \n",
       "2018-07-19 19:27:30                       0.0                      0.0   \n",
       "2018-07-19 19:27:40                       0.0                      0.0   \n",
       "2018-07-19 19:27:50                       0.0                      0.0   \n",
       "2018-07-19 19:28:00                       0.0                      0.0   \n",
       "\n",
       "                     ADAutoDrillerRunning  ADAuxiliary1  ADAuxiliary2  \\\n",
       "ReportDateTime                                                          \n",
       "2018-07-19 19:27:20                  -1.0     65.026100          60.0   \n",
       "2018-07-19 19:27:30                  -1.0     64.834343          60.0   \n",
       "2018-07-19 19:27:40                  -1.0     64.834343          60.0   \n",
       "2018-07-19 19:27:50                  -1.0     64.983490          60.0   \n",
       "2018-07-19 19:28:00                  -1.0     65.079369          60.0   \n",
       "\n",
       "                     ADAuxiliary3  ADAuxiliary4  ADAuxiliary5  ...   TripGL  \\\n",
       "ReportDateTime                                                 ...            \n",
       "2018-07-19 19:27:20           0.0         256.0          42.0  ...  2.75318   \n",
       "2018-07-19 19:27:30           0.0         256.0          42.0  ...  2.73727   \n",
       "2018-07-19 19:27:40           0.0         256.0          42.0  ...  2.75318   \n",
       "2018-07-19 19:27:50           0.0         256.0          42.0  ...  2.75318   \n",
       "2018-07-19 19:28:00           0.0         256.0          42.0  ...  2.75318   \n",
       "\n",
       "                     TripGLCompanyMan  TripGLSignature  TripModeAccumulation  \\\n",
       "ReportDateTime                                                                 \n",
       "2018-07-19 19:27:20        -36.650749     3.614740e+09                   0.0   \n",
       "2018-07-19 19:27:30        -36.666672     3.614740e+09                   0.0   \n",
       "2018-07-19 19:27:40        -36.650749     3.614740e+09                   0.0   \n",
       "2018-07-19 19:27:50        -36.650749     3.614740e+09                   0.0   \n",
       "2018-07-19 19:28:00        -36.650749     3.614740e+09                   0.0   \n",
       "\n",
       "                     TripModeFillupStrokes  TripVolumeActive  UnderPull  \\\n",
       "ReportDateTime                                                            \n",
       "2018-07-19 19:27:20                    0.0           3.62847        0.0   \n",
       "2018-07-19 19:27:30                    0.0           3.61256        0.0   \n",
       "2018-07-19 19:27:40                    0.0           3.62847        0.0   \n",
       "2018-07-19 19:27:50                    0.0           3.62847        0.0   \n",
       "2018-07-19 19:28:00                    0.0           3.62847        0.0   \n",
       "\n",
       "                     VFDVariable10  VFDVariable9  WeightonBit  \n",
       "ReportDateTime                                                 \n",
       "2018-07-19 19:27:20            0.0           0.0    22.928080  \n",
       "2018-07-19 19:27:30            0.0           0.0    22.223921  \n",
       "2018-07-19 19:27:40            0.0           0.0    22.717220  \n",
       "2018-07-19 19:27:50            0.0           0.0    22.890190  \n",
       "2018-07-19 19:28:00            0.0           0.0    22.669729  \n",
       "\n",
       "[5 rows x 198 columns]"
      ]
     },
     "execution_count": 5,
     "metadata": {},
     "output_type": "execute_result"
    }
   ],
   "source": [
    "#Convert the query to a data frame\n",
    "df_time_indexed = df_raw.set_index('ReportDateTime')\n",
    "df_time_indexed.head(5)"
   ]
  },
  {
   "cell_type": "code",
   "execution_count": 6,
   "metadata": {},
   "outputs": [],
   "source": [
    "df_time_indexed.drop([ 'AccumulatedFillupStrokes', 'AccumulatedFillupVolume', 'ADAuxiliary2', 'ADAuxiliary3', 'ADAuxiliary4', 'ADAuxiliary5', 'BitArea', 'BitNozzleTotalFlowArea', 'CoilEngaged', 'CurrentConnectionTime'\n",
    ", 'DrillMode', 'DynamicVariable09', 'EC1Active', 'EC1ActivityCode1', 'EC1ActivityCode2', 'EC1ActivityCode3', 'EC1ActivityCode4', 'EC1ActivityCode5', 'EC1Authorized', 'EC1DPModeOn', 'EC1DPModeOnReq'\n",
    ", 'EC1DPSPActual', 'EC1DPSPRecommended', 'EC1Ready', 'EC1ROPSPActual', 'EC1ROPSPRecommended', 'EC1WOBModeOn', 'EC1WOBModeOnReq', 'EC1WOBSPActual', 'EC1WOBSPRecommended', 'H2S08', 'H2S09'\n",
    ", 'HookloadInline', 'LEL01', 'LEL03', 'LEL05', 'LEL06', 'LEL08', 'LEL09', 'LEL10', 'LEL12', 'MudMotorRPM', 'OnBottom', 'PLCStatus', 'REVitEnabled', 'REVitUsageAlert', 'ROCKIT_PILOTOnOff', 'SlipsSet'\n",
    ", 'StaticInjectorForce', 'STCfActualNm_Sec', 'STKfActualNm', 'TDOilSensorBypassAlarm', 'TDOilType', 'TDTorqueInline', 'TongMakeupStartPressure', 'TorqueTare', 'UnderPull', 'VFDVariable10', 'VFDVariable9'\n",
    ", 'H2S04', 'LEL02', 'LEL11', 'SeperatorFlow', 'H2S11', 'Date', 'DateDateOnly', 'DateTimeOnly', 'AccumulatedConnectionTime', 'ADAutoDrillerRunning', 'ADDPEnabled', 'ADROPCruiseControlEnabled', 'ADSystemEnabled', 'ADWOBEnabled'\n",
    ", 'TripModeAccumulation', 'TripModeFillupStrokes', 'ADAuxiliary1'\n",
    "        ], axis=1, inplace=True)\n",
    "#, 'ReportDateTime'\n",
    "#, 'WellName'\n",
    "#ADAuxiliary1 - removed as per vendor (user defined)"
   ]
  },
  {
   "cell_type": "code",
   "execution_count": 7,
   "metadata": {},
   "outputs": [],
   "source": [
    "df_time_indexed.drop(['WellName'], axis=1, inplace=True)"
   ]
  },
  {
   "cell_type": "markdown",
   "metadata": {},
   "source": [
    "# Down Sample the Data Set"
   ]
  },
  {
   "cell_type": "code",
   "execution_count": 8,
   "metadata": {},
   "outputs": [],
   "source": [
    "# Down sample every minute\n",
    "df_time_indexed_DS_1 = df_time_indexed.resample('1T').first().dropna()"
   ]
  },
  {
   "cell_type": "code",
   "execution_count": 9,
   "metadata": {},
   "outputs": [
    {
     "data": {
      "text/plain": [
       "(118050, 121)"
      ]
     },
     "execution_count": 9,
     "metadata": {},
     "output_type": "execute_result"
    }
   ],
   "source": [
    "df_time_indexed_DS_1.shape"
   ]
  },
  {
   "cell_type": "code",
   "execution_count": 10,
   "metadata": {},
   "outputs": [
    {
     "name": "stdout",
     "output_type": "stream",
     "text": [
      "Labels Row Count: 118050\n",
      "Labels Column Count: 121\n"
     ]
    }
   ],
   "source": [
    "#see the dimensions of the data\n",
    "print(\"Labels Row Count:\",df_time_indexed_DS_1.shape[0])\n",
    "print(\"Labels Column Count:\",df_time_indexed_DS_1.shape[1])"
   ]
  },
  {
   "cell_type": "code",
   "execution_count": 11,
   "metadata": {},
   "outputs": [
    {
     "data": {
      "text/html": [
       "<div>\n",
       "<style scoped>\n",
       "    .dataframe tbody tr th:only-of-type {\n",
       "        vertical-align: middle;\n",
       "    }\n",
       "\n",
       "    .dataframe tbody tr th {\n",
       "        vertical-align: top;\n",
       "    }\n",
       "\n",
       "    .dataframe thead th {\n",
       "        text-align: right;\n",
       "    }\n",
       "</style>\n",
       "<table border=\"1\" class=\"dataframe\">\n",
       "  <thead>\n",
       "    <tr style=\"text-align: right;\">\n",
       "      <th></th>\n",
       "      <th>ADDifferentialPressureActualValue</th>\n",
       "      <th>ADDifferentialPressureLimitValue</th>\n",
       "      <th>ADDifferentialPressureSetpointValue</th>\n",
       "      <th>ADHookloadSlider</th>\n",
       "      <th>ADROPActualValue</th>\n",
       "      <th>ADROPSetpointValue</th>\n",
       "      <th>ADSPPSlider</th>\n",
       "      <th>ADWOBActualValue</th>\n",
       "      <th>ADWOBLimitValue</th>\n",
       "      <th>ADWOBSetpointValue</th>\n",
       "      <th>...</th>\n",
       "      <th>TopDriveRPM</th>\n",
       "      <th>TopDriveRPMCommand</th>\n",
       "      <th>TopDriveTorqueCommand</th>\n",
       "      <th>TopDriveTorqueft_lbs</th>\n",
       "      <th>TorqueDelta</th>\n",
       "      <th>TripGL</th>\n",
       "      <th>TripGLCompanyMan</th>\n",
       "      <th>TripGLSignature</th>\n",
       "      <th>TripVolumeActive</th>\n",
       "      <th>WeightonBit</th>\n",
       "    </tr>\n",
       "    <tr>\n",
       "      <th>ReportDateTime</th>\n",
       "      <th></th>\n",
       "      <th></th>\n",
       "      <th></th>\n",
       "      <th></th>\n",
       "      <th></th>\n",
       "      <th></th>\n",
       "      <th></th>\n",
       "      <th></th>\n",
       "      <th></th>\n",
       "      <th></th>\n",
       "      <th></th>\n",
       "      <th></th>\n",
       "      <th></th>\n",
       "      <th></th>\n",
       "      <th></th>\n",
       "      <th></th>\n",
       "      <th></th>\n",
       "      <th></th>\n",
       "      <th></th>\n",
       "      <th></th>\n",
       "      <th></th>\n",
       "    </tr>\n",
       "  </thead>\n",
       "  <tbody>\n",
       "    <tr>\n",
       "      <th>2018-06-13 16:24:00</th>\n",
       "      <td>250.675964</td>\n",
       "      <td>700.0</td>\n",
       "      <td>500.0</td>\n",
       "      <td>2.40294</td>\n",
       "      <td>87.634682</td>\n",
       "      <td>115.0</td>\n",
       "      <td>5.97647</td>\n",
       "      <td>25.40164</td>\n",
       "      <td>30.0</td>\n",
       "      <td>25.0</td>\n",
       "      <td>...</td>\n",
       "      <td>80.014908</td>\n",
       "      <td>80.014908</td>\n",
       "      <td>9398.339844</td>\n",
       "      <td>9398.339844</td>\n",
       "      <td>8979.965820</td>\n",
       "      <td>-40.693001</td>\n",
       "      <td>-20.2908</td>\n",
       "      <td>3.611591e+09</td>\n",
       "      <td>1.03443</td>\n",
       "      <td>25.453461</td>\n",
       "    </tr>\n",
       "    <tr>\n",
       "      <th>2018-06-13 16:25:00</th>\n",
       "      <td>240.586945</td>\n",
       "      <td>700.0</td>\n",
       "      <td>500.0</td>\n",
       "      <td>2.40294</td>\n",
       "      <td>84.232651</td>\n",
       "      <td>115.0</td>\n",
       "      <td>5.97647</td>\n",
       "      <td>24.56159</td>\n",
       "      <td>30.0</td>\n",
       "      <td>25.0</td>\n",
       "      <td>...</td>\n",
       "      <td>80.025574</td>\n",
       "      <td>80.025574</td>\n",
       "      <td>9217.603516</td>\n",
       "      <td>9217.603516</td>\n",
       "      <td>9736.386719</td>\n",
       "      <td>-40.693001</td>\n",
       "      <td>-20.2908</td>\n",
       "      <td>3.611591e+09</td>\n",
       "      <td>1.03443</td>\n",
       "      <td>25.551750</td>\n",
       "    </tr>\n",
       "  </tbody>\n",
       "</table>\n",
       "<p>2 rows × 121 columns</p>\n",
       "</div>"
      ],
      "text/plain": [
       "                     ADDifferentialPressureActualValue  \\\n",
       "ReportDateTime                                           \n",
       "2018-06-13 16:24:00                         250.675964   \n",
       "2018-06-13 16:25:00                         240.586945   \n",
       "\n",
       "                     ADDifferentialPressureLimitValue  \\\n",
       "ReportDateTime                                          \n",
       "2018-06-13 16:24:00                             700.0   \n",
       "2018-06-13 16:25:00                             700.0   \n",
       "\n",
       "                     ADDifferentialPressureSetpointValue  ADHookloadSlider  \\\n",
       "ReportDateTime                                                               \n",
       "2018-06-13 16:24:00                                500.0           2.40294   \n",
       "2018-06-13 16:25:00                                500.0           2.40294   \n",
       "\n",
       "                     ADROPActualValue  ADROPSetpointValue  ADSPPSlider  \\\n",
       "ReportDateTime                                                           \n",
       "2018-06-13 16:24:00         87.634682               115.0      5.97647   \n",
       "2018-06-13 16:25:00         84.232651               115.0      5.97647   \n",
       "\n",
       "                     ADWOBActualValue  ADWOBLimitValue  ADWOBSetpointValue  \\\n",
       "ReportDateTime                                                               \n",
       "2018-06-13 16:24:00          25.40164             30.0                25.0   \n",
       "2018-06-13 16:25:00          24.56159             30.0                25.0   \n",
       "\n",
       "                     ...  TopDriveRPM  TopDriveRPMCommand  \\\n",
       "ReportDateTime       ...                                    \n",
       "2018-06-13 16:24:00  ...    80.014908           80.014908   \n",
       "2018-06-13 16:25:00  ...    80.025574           80.025574   \n",
       "\n",
       "                     TopDriveTorqueCommand  TopDriveTorqueft_lbs  TorqueDelta  \\\n",
       "ReportDateTime                                                                  \n",
       "2018-06-13 16:24:00            9398.339844           9398.339844  8979.965820   \n",
       "2018-06-13 16:25:00            9217.603516           9217.603516  9736.386719   \n",
       "\n",
       "                        TripGL  TripGLCompanyMan  TripGLSignature  \\\n",
       "ReportDateTime                                                      \n",
       "2018-06-13 16:24:00 -40.693001          -20.2908     3.611591e+09   \n",
       "2018-06-13 16:25:00 -40.693001          -20.2908     3.611591e+09   \n",
       "\n",
       "                     TripVolumeActive  WeightonBit  \n",
       "ReportDateTime                                      \n",
       "2018-06-13 16:24:00           1.03443    25.453461  \n",
       "2018-06-13 16:25:00           1.03443    25.551750  \n",
       "\n",
       "[2 rows x 121 columns]"
      ]
     },
     "execution_count": 11,
     "metadata": {},
     "output_type": "execute_result"
    }
   ],
   "source": [
    "#Show first 5 rows of data\n",
    "df_time_indexed_DS_1.head(2)"
   ]
  },
  {
   "cell_type": "markdown",
   "metadata": {},
   "source": [
    "# Create Features and Labels"
   ]
  },
  {
   "cell_type": "code",
   "execution_count": 12,
   "metadata": {},
   "outputs": [],
   "source": [
    "label_column =  'ROCKIT_OnOff'\n",
    "\n",
    "features = df_time_indexed_DS_1.dropna().drop([label_column], axis=1)\n",
    "#features = df.dropna().drop([label_column, 'ROCKIT_RPMRW'], axis=1)\n",
    "labels = df_time_indexed_DS_1.dropna()[label_column]\n",
    "\n",
    "X = features.values\n",
    "y = labels.values\n",
    "\n",
    "#1 = Sliding\n",
    "#0 = Rotating"
   ]
  },
  {
   "cell_type": "markdown",
   "metadata": {},
   "source": [
    "# Grid Search Start -- Do not have to run again"
   ]
  },
  {
   "cell_type": "code",
   "execution_count": 13,
   "metadata": {},
   "outputs": [],
   "source": [
    "params = {'max_depth':[5, 10, 15], 'min_samples_split':[2, 4, 8]}\n",
    "\n",
    "clf = DecisionTreeClassifier()\n",
    "\n",
    "grid = GridSearchCV(clf, params, cv=10)"
   ]
  },
  {
   "cell_type": "code",
   "execution_count": 14,
   "metadata": {},
   "outputs": [
    {
     "data": {
      "text/plain": [
       "GridSearchCV(cv=10, error_score='raise-deprecating',\n",
       "       estimator=DecisionTreeClassifier(class_weight=None, criterion='gini', max_depth=None,\n",
       "            max_features=None, max_leaf_nodes=None,\n",
       "            min_impurity_decrease=0.0, min_impurity_split=None,\n",
       "            min_samples_leaf=1, min_samples_split=2,\n",
       "            min_weight_fraction_leaf=0.0, presort=False, random_state=None,\n",
       "            splitter='best'),\n",
       "       fit_params=None, iid='warn', n_jobs=None,\n",
       "       param_grid={'max_depth': [5, 10, 15], 'min_samples_split': [2, 4, 8]},\n",
       "       pre_dispatch='2*n_jobs', refit=True, return_train_score='warn',\n",
       "       scoring=None, verbose=0)"
      ]
     },
     "execution_count": 14,
     "metadata": {},
     "output_type": "execute_result"
    }
   ],
   "source": [
    "#To run on small sample set\n",
    "#grid.fit(X[:500], y[:500])\n",
    "\n",
    "#to run on full data set\n",
    "grid.fit(X, y)"
   ]
  },
  {
   "cell_type": "code",
   "execution_count": 15,
   "metadata": {},
   "outputs": [
    {
     "data": {
      "text/plain": [
       "DecisionTreeClassifier(class_weight=None, criterion='gini', max_depth=5,\n",
       "            max_features=None, max_leaf_nodes=None,\n",
       "            min_impurity_decrease=0.0, min_impurity_split=None,\n",
       "            min_samples_leaf=1, min_samples_split=4,\n",
       "            min_weight_fraction_leaf=0.0, presort=False, random_state=None,\n",
       "            splitter='best')"
      ]
     },
     "execution_count": 15,
     "metadata": {},
     "output_type": "execute_result"
    }
   ],
   "source": [
    "best_dt = grid.best_estimator_\n",
    "best_dt"
   ]
  },
  {
   "cell_type": "code",
   "execution_count": 16,
   "metadata": {},
   "outputs": [
    {
     "data": {
      "text/plain": [
       "{'max_depth': 5, 'min_samples_split': 4}"
      ]
     },
     "execution_count": 16,
     "metadata": {},
     "output_type": "execute_result"
    }
   ],
   "source": [
    "grid.best_params_"
   ]
  },
  {
   "cell_type": "markdown",
   "metadata": {},
   "source": [
    "#### Grid Search Results: \n",
    "Original Results\n",
    "    * Max Depth = 5\n",
    "    * Min Samples = 8\n",
    "    \n",
    "1 Minute sampling\n",
    "* Max Depth = 5\n",
    "* Min Samples = 4\n",
    "## Grid Search End -- Do not have to run again"
   ]
  },
  {
   "cell_type": "code",
   "execution_count": null,
   "metadata": {},
   "outputs": [],
   "source": [
    "#"
   ]
  },
  {
   "cell_type": "markdown",
   "metadata": {},
   "source": [
    "# Feature Reduction\n",
    "## Create Labels"
   ]
  },
  {
   "cell_type": "code",
   "execution_count": 17,
   "metadata": {},
   "outputs": [],
   "source": [
    "label_column =  'ROCKIT_OnOff'\n",
    "\n",
    "#fill in max depth and min samples with above numbers\n",
    "dt = DecisionTreeClassifier(max_depth=5, min_samples_split=4)\n",
    "\n",
    "#After grid search is done you can use the object for descion tree fits\n",
    "#dt = grid.best_estimator_"
   ]
  },
  {
   "cell_type": "code",
   "execution_count": 18,
   "metadata": {},
   "outputs": [
    {
     "data": {
      "text/plain": [
       "DecisionTreeClassifier(class_weight=None, criterion='gini', max_depth=5,\n",
       "            max_features=None, max_leaf_nodes=None,\n",
       "            min_impurity_decrease=0.0, min_impurity_split=None,\n",
       "            min_samples_leaf=1, min_samples_split=4,\n",
       "            min_weight_fraction_leaf=0.0, presort=False, random_state=None,\n",
       "            splitter='best')"
      ]
     },
     "execution_count": 18,
     "metadata": {},
     "output_type": "execute_result"
    }
   ],
   "source": [
    "dt.fit(X, y)"
   ]
  },
  {
   "cell_type": "markdown",
   "metadata": {},
   "source": [
    "## Create indices\n",
    "### Non zero importances"
   ]
  },
  {
   "cell_type": "code",
   "execution_count": 19,
   "metadata": {},
   "outputs": [],
   "source": [
    "#index feature importance\n",
    "feature_importances = dt.feature_importances_\n",
    "\n",
    "#Get non zero indicies to filter with\n",
    "nz_indices = np.argwhere(feature_importances > 0)\n",
    "nz_features = features.columns[nz_indices].values.flatten()\n",
    "nz_importances = feature_importances[nz_indices].flatten()"
   ]
  },
  {
   "cell_type": "code",
   "execution_count": 20,
   "metadata": {},
   "outputs": [
    {
     "name": "stdout",
     "output_type": "stream",
     "text": [
      "Max non-zero feature name = ROCKIT_RPMRW\n",
      "Max non-zero feature value = 0.8537690368768743\n"
     ]
    }
   ],
   "source": [
    "#Find the most importance features number\n",
    "#nz_features[ np.argmax(nz_importances) ]\n",
    "#nz_importances.max()\n",
    "\n",
    "print(\"Max non-zero feature name = \"+ nz_features[ np.argmax(nz_importances) ])\n",
    "print(\"Max non-zero feature value = %s\" % nz_importances.max())"
   ]
  },
  {
   "cell_type": "markdown",
   "metadata": {},
   "source": [
    "### Top quartiles analysis"
   ]
  },
  {
   "cell_type": "code",
   "execution_count": 21,
   "metadata": {},
   "outputs": [
    {
     "data": {
      "text/plain": [
       "count    23.000000\n",
       "mean      0.043478\n",
       "std       0.177077\n",
       "min       0.000040\n",
       "25%       0.000340\n",
       "50%       0.000774\n",
       "75%       0.004739\n",
       "max       0.853769\n",
       "dtype: float64"
      ]
     },
     "execution_count": 21,
     "metadata": {},
     "output_type": "execute_result"
    }
   ],
   "source": [
    "imp = pd.Series(nz_importances)\n",
    "desc = imp.describe()\n",
    "desc"
   ]
  },
  {
   "cell_type": "code",
   "execution_count": 22,
   "metadata": {},
   "outputs": [],
   "source": [
    "#Function to run percent analysis\n",
    "def rank(imp, perc, remove_outlier=True):\n",
    "    if remove_outlier:\n",
    "        imp = imp[imp < imp.max()]\n",
    "   \n",
    "    desc = imp.describe()\n",
    "    if type(perc) == str:\n",
    "        top = imp[ imp >=  desc[perc]]\n",
    "    else:\n",
    "        top = imp[ imp >= perc]\n",
    "    \n",
    "    # N top features\n",
    "    n_top = top.shape[0]\n",
    "    \n",
    "    # Total variation explanation\n",
    "    var_expl = top.sum() / imp.sum()\n",
    "    \n",
    "    return n_top, var_expl"
   ]
  },
  {
   "cell_type": "markdown",
   "metadata": {},
   "source": [
    "### Save the features and variance to object"
   ]
  },
  {
   "cell_type": "code",
   "execution_count": 23,
   "metadata": {},
   "outputs": [],
   "source": [
    "#Create variables that shows features and variances\n",
    "#Number of features, fractioned explained by variance\n",
    "\n",
    "# True (default) = removes outlier\n",
    "# False = Keeps outlier\n",
    "\n",
    "Perc25_NoOutlier = rank(imp, '25%')\n",
    "Perc50_NoOutlier = rank(imp, '50%')\n",
    "Perc75_NoOutlier = rank(imp, '75%')\n",
    "\n",
    "\n",
    "Perc25_WithOutlier = rank(imp, '25%', False)\n",
    "Perc50_WithOutlier = rank(imp, '50%', False)\n",
    "Perc75_WithOutlier = rank(imp, '75%', False)"
   ]
  },
  {
   "cell_type": "markdown",
   "metadata": {},
   "source": [
    "### Features & Variance with no Outliers"
   ]
  },
  {
   "cell_type": "code",
   "execution_count": 24,
   "metadata": {},
   "outputs": [
    {
     "name": "stdout",
     "output_type": "stream",
     "text": [
      "25% Quartile with no outlier include 16 features and explains 99.437% of the variance\n",
      "50% Quartile with no outlier include 11 features and explains 97.48% of the variance\n",
      "75% Quartile with no outlier include 6 features and explains 88.813% of the variance\n"
     ]
    }
   ],
   "source": [
    "print(f'25% Quartile with no outlier include {Perc25_NoOutlier[0]} features and explains {round(Perc25_NoOutlier[1]*100, 3)}% of the variance')\n",
    "print(f'50% Quartile with no outlier include {Perc50_NoOutlier[0]} features and explains {round(Perc50_NoOutlier[1]*100, 3)}% of the variance')\n",
    "print(f'75% Quartile with no outlier include {Perc75_NoOutlier[0]} features and explains {round(Perc75_NoOutlier[1]*100, 3)}% of the variance')"
   ]
  },
  {
   "cell_type": "markdown",
   "metadata": {},
   "source": [
    "### Features & Variance with Outliers"
   ]
  },
  {
   "cell_type": "code",
   "execution_count": 25,
   "metadata": {},
   "outputs": [
    {
     "name": "stdout",
     "output_type": "stream",
     "text": [
      "25% Quartile with outlier include 17 features and explains 99.918% of the variance\n",
      "50% Quartile with outlier include 12 features and explains 99.632% of the variance\n",
      "75% Quartile with outlier include 6 features and explains 97.903% of the variance\n"
     ]
    }
   ],
   "source": [
    "print(f'25% Quartile with outlier include {Perc25_WithOutlier[0]} features and explains {round(Perc25_WithOutlier[1]*100, 3)}% of the variance')\n",
    "print(f'50% Quartile with outlier include {Perc50_WithOutlier[0]} features and explains {round(Perc50_WithOutlier[1]*100, 3)}% of the variance')\n",
    "print(f'75% Quartile with outlier include {Perc75_WithOutlier[0]} features and explains {round(Perc75_WithOutlier[1]*100, 3)}% of the variance')"
   ]
  },
  {
   "cell_type": "markdown",
   "metadata": {},
   "source": [
    "### Top 25% Features"
   ]
  },
  {
   "cell_type": "code",
   "execution_count": 26,
   "metadata": {},
   "outputs": [
    {
     "data": {
      "text/plain": [
       "<BarContainer object of 11 artists>"
      ]
     },
     "execution_count": 26,
     "metadata": {},
     "output_type": "execute_result"
    },
    {
     "data": {
      "image/png": "[encoded data removed]",
      "text/plain": [
       "<Figure size 432x288 with 1 Axes>"
      ]
     },
     "metadata": {
      "needs_background": "light"
     },
     "output_type": "display_data"
    }
   ],
   "source": [
    "#Apply threshold to only use top 25% of features\n",
    "#threshold = desc['75%'] #Top 25% quartile\n",
    "threshold = desc['50%'] #Top 50% quartile\n",
    "#threshold = desc['25%'] #Top 75% quartile\n",
    "\n",
    "top_indices = np.argwhere(nz_importances > threshold)\n",
    "top_features = nz_features[top_indices].flatten()\n",
    "top_importances = nz_importances[top_indices].flatten()\n",
    "\n",
    "#Plot the data\n",
    "plt.xticks(rotation=90)\n",
    "plt.bar(top_features, top_importances, log=True)"
   ]
  },
  {
   "cell_type": "markdown",
   "metadata": {},
   "source": [
    "### Sort the data by size"
   ]
  },
  {
   "cell_type": "code",
   "execution_count": 27,
   "metadata": {},
   "outputs": [
    {
     "data": {
      "text/plain": [
       "<BarContainer object of 11 artists>"
      ]
     },
     "execution_count": 27,
     "metadata": {},
     "output_type": "execute_result"
    },
    {
     "data": {
      "image/png": "[encoded data removed]",
      "text/plain": [
       "<Figure size 432x288 with 1 Axes>"
      ]
     },
     "metadata": {
      "needs_background": "light"
     },
     "output_type": "display_data"
    }
   ],
   "source": [
    "sorted_indices = np.argsort(top_importances)\n",
    "sorted_features = top_features[sorted_indices]\n",
    "sorted_importances = top_importances[sorted_indices]\n",
    "\n",
    "#Plot the sorted values\n",
    "plt.xticks(rotation=90)\n",
    "plt.bar(sorted_features, sorted_importances, log=True)"
   ]
  },
  {
   "cell_type": "code",
   "execution_count": 28,
   "metadata": {},
   "outputs": [
    {
     "data": {
      "text/plain": [
       "array(['ROCKIT_HITRQRight', 'TorqueDelta', 'ROPMinuteDepth', 'Hookload',\n",
       "       'LagDepthGas', 'TopDriveTorqueCommand', 'ADROPSetpointValue',\n",
       "       'DepthHoleTVD', 'BitRPM', 'DynamicVariable06', 'ROCKIT_RPMRW'],\n",
       "      dtype=object)"
      ]
     },
     "execution_count": 28,
     "metadata": {},
     "output_type": "execute_result"
    }
   ],
   "source": [
    "sorted_features"
   ]
  },
  {
   "cell_type": "markdown",
   "metadata": {},
   "source": [
    "# Data Frame of Top Features"
   ]
  },
  {
   "cell_type": "code",
   "execution_count": 29,
   "metadata": {},
   "outputs": [
    {
     "data": {
      "text/html": [
       "<div>\n",
       "<style scoped>\n",
       "    .dataframe tbody tr th:only-of-type {\n",
       "        vertical-align: middle;\n",
       "    }\n",
       "\n",
       "    .dataframe tbody tr th {\n",
       "        vertical-align: top;\n",
       "    }\n",
       "\n",
       "    .dataframe thead th {\n",
       "        text-align: right;\n",
       "    }\n",
       "</style>\n",
       "<table border=\"1\" class=\"dataframe\">\n",
       "  <thead>\n",
       "    <tr style=\"text-align: right;\">\n",
       "      <th></th>\n",
       "      <th>ROCKIT_HITRQRight</th>\n",
       "      <th>TorqueDelta</th>\n",
       "      <th>ROPMinuteDepth</th>\n",
       "      <th>Hookload</th>\n",
       "      <th>LagDepthGas</th>\n",
       "      <th>TopDriveTorqueCommand</th>\n",
       "      <th>ADROPSetpointValue</th>\n",
       "      <th>DepthHoleTVD</th>\n",
       "      <th>BitRPM</th>\n",
       "      <th>DynamicVariable06</th>\n",
       "      <th>ROCKIT_RPMRW</th>\n",
       "    </tr>\n",
       "    <tr>\n",
       "      <th>ReportDateTime</th>\n",
       "      <th></th>\n",
       "      <th></th>\n",
       "      <th></th>\n",
       "      <th></th>\n",
       "      <th></th>\n",
       "      <th></th>\n",
       "      <th></th>\n",
       "      <th></th>\n",
       "      <th></th>\n",
       "      <th></th>\n",
       "      <th></th>\n",
       "    </tr>\n",
       "  </thead>\n",
       "  <tbody>\n",
       "    <tr>\n",
       "      <th>2018-06-13 16:24:00</th>\n",
       "      <td>0.0</td>\n",
       "      <td>8979.965820</td>\n",
       "      <td>0.77396</td>\n",
       "      <td>138.951660</td>\n",
       "      <td>9302.5</td>\n",
       "      <td>9398.339844</td>\n",
       "      <td>115.0</td>\n",
       "      <td>9329.415039</td>\n",
       "      <td>80.078827</td>\n",
       "      <td>3477.801514</td>\n",
       "      <td>80.0</td>\n",
       "    </tr>\n",
       "    <tr>\n",
       "      <th>2018-06-13 16:25:00</th>\n",
       "      <td>0.0</td>\n",
       "      <td>9736.386719</td>\n",
       "      <td>0.76646</td>\n",
       "      <td>139.674774</td>\n",
       "      <td>9303.5</td>\n",
       "      <td>9217.603516</td>\n",
       "      <td>115.0</td>\n",
       "      <td>9330.672852</td>\n",
       "      <td>80.014908</td>\n",
       "      <td>3473.287598</td>\n",
       "      <td>80.0</td>\n",
       "    </tr>\n",
       "  </tbody>\n",
       "</table>\n",
       "</div>"
      ],
      "text/plain": [
       "                     ROCKIT_HITRQRight  TorqueDelta  ROPMinuteDepth  \\\n",
       "ReportDateTime                                                        \n",
       "2018-06-13 16:24:00                0.0  8979.965820         0.77396   \n",
       "2018-06-13 16:25:00                0.0  9736.386719         0.76646   \n",
       "\n",
       "                       Hookload  LagDepthGas  TopDriveTorqueCommand  \\\n",
       "ReportDateTime                                                        \n",
       "2018-06-13 16:24:00  138.951660       9302.5            9398.339844   \n",
       "2018-06-13 16:25:00  139.674774       9303.5            9217.603516   \n",
       "\n",
       "                     ADROPSetpointValue  DepthHoleTVD     BitRPM  \\\n",
       "ReportDateTime                                                     \n",
       "2018-06-13 16:24:00               115.0   9329.415039  80.078827   \n",
       "2018-06-13 16:25:00               115.0   9330.672852  80.014908   \n",
       "\n",
       "                     DynamicVariable06  ROCKIT_RPMRW  \n",
       "ReportDateTime                                        \n",
       "2018-06-13 16:24:00        3477.801514          80.0  \n",
       "2018-06-13 16:25:00        3473.287598          80.0  "
      ]
     },
     "execution_count": 29,
     "metadata": {},
     "output_type": "execute_result"
    }
   ],
   "source": [
    "#Top features in Data Frame\n",
    "reduced_features = features[sorted_features]\n",
    "reduced_features.head(2)"
   ]
  },
  {
   "cell_type": "code",
   "execution_count": 30,
   "metadata": {},
   "outputs": [],
   "source": [
    "#Put values in array for models\n",
    "X_reduced = reduced_features.values"
   ]
  },
  {
   "cell_type": "code",
   "execution_count": 31,
   "metadata": {},
   "outputs": [
    {
     "name": "stdout",
     "output_type": "stream",
     "text": [
      "Labels Row Count: 118050\n",
      "Features Row Count: 118050\n",
      "Features Column Count: 11\n"
     ]
    }
   ],
   "source": [
    "#Object Shapes\n",
    "print(\"Labels Row Count:\",labels.shape[0])\n",
    "print(\"Features Row Count:\",reduced_features.shape[0])\n",
    "print(\"Features Column Count:\",reduced_features.shape[1])"
   ]
  },
  {
   "cell_type": "markdown",
   "metadata": {},
   "source": [
    "## Function to set Classifeir Window"
   ]
  },
  {
   "cell_type": "code",
   "execution_count": 32,
   "metadata": {},
   "outputs": [],
   "source": [
    "#Function to set classifer window\n",
    "def window(features, labels, window_len=4, jump_ahead=10):\n",
    "    X, y = [], []\n",
    "    \n",
    "    for i in range(features.shape[0] - window_len):\n",
    "    #for i in range(features.shape[0] - window_len - jump_ahead):\n",
    "    \n",
    "        start_idx = i\n",
    "        stop_idx = start_idx + window_len\n",
    "\n",
    "        window_X = features[start_idx:stop_idx, :]\n",
    "        \n",
    "        window_y = labels[stop_idx]\n",
    "        #window_y = labels[stop_idx + jump_ahead]\n",
    "\n",
    "        X.append(window_X)\n",
    "        y.append(window_y)\n",
    "\n",
    "    return np.array(X), np.array(y)"
   ]
  },
  {
   "cell_type": "markdown",
   "metadata": {},
   "source": [
    "## Classification Objects"
   ]
  },
  {
   "cell_type": "code",
   "execution_count": 33,
   "metadata": {},
   "outputs": [],
   "source": [
    "#Standard Scaler object\n",
    "scaler = StandardScaler()"
   ]
  },
  {
   "cell_type": "code",
   "execution_count": 34,
   "metadata": {},
   "outputs": [],
   "source": [
    "#Apply standard scaler to X-reduced data set\n",
    "X_scaled = scaler.fit_transform(X_reduced)"
   ]
  },
  {
   "cell_type": "code",
   "execution_count": 35,
   "metadata": {},
   "outputs": [],
   "source": [
    "#set window scale\n",
    "window_len = 10\n",
    "X_windowed, y_windowed = window(X_scaled, y, window_len)"
   ]
  },
  {
   "cell_type": "code",
   "execution_count": 36,
   "metadata": {},
   "outputs": [
    {
     "data": {
      "text/plain": [
       "(118040, 10, 11)"
      ]
     },
     "execution_count": 36,
     "metadata": {},
     "output_type": "execute_result"
    }
   ],
   "source": [
    "X_windowed.shape"
   ]
  },
  {
   "cell_type": "code",
   "execution_count": 37,
   "metadata": {},
   "outputs": [
    {
     "data": {
      "text/plain": [
       "110"
      ]
     },
     "execution_count": 37,
     "metadata": {},
     "output_type": "execute_result"
    }
   ],
   "source": [
    "#count on to flatten features to 2 dimensions\n",
    "feat_dims = X_windowed.shape[1:]\n",
    "flat_feat_len = np.product(feat_dims)\n",
    "flat_feat_len"
   ]
  },
  {
   "cell_type": "markdown",
   "metadata": {},
   "source": [
    "# Create Training and Test Data Sets"
   ]
  },
  {
   "cell_type": "code",
   "execution_count": 38,
   "metadata": {
    "scrolled": true
   },
   "outputs": [],
   "source": [
    "#create Classifier Window test/train split data\n",
    "X_train, X_test, y_train, y_test =  train_test_split(X_windowed, y_windowed, train_size=0.8, shuffle=False)\n",
    "\n",
    "#Flatten the train and test data set\n",
    "X_train = X_train.reshape((-1, flat_feat_len))\n",
    "X_test = X_test.reshape((-1, flat_feat_len))"
   ]
  },
  {
   "cell_type": "code",
   "execution_count": 39,
   "metadata": {},
   "outputs": [],
   "source": [
    "#create Static test/train split data\n",
    "X_train_st, X_test_st, y_train_st, y_test_st =  train_test_split(X_scaled, y, train_size=0.8, shuffle=False)"
   ]
  },
  {
   "cell_type": "markdown",
   "metadata": {},
   "source": [
    "# SVM Classifier Window Model Build"
   ]
  },
  {
   "cell_type": "code",
   "execution_count": 40,
   "metadata": {},
   "outputs": [],
   "source": [
    "### SVM Grid Search if needed after inital model is run"
   ]
  },
  {
   "cell_type": "code",
   "execution_count": 41,
   "metadata": {},
   "outputs": [],
   "source": [
    "#create SVM Classifier\n",
    "svm_clf = svm.SVC(kernel='rbf')"
   ]
  },
  {
   "cell_type": "code",
   "execution_count": 42,
   "metadata": {},
   "outputs": [
    {
     "data": {
      "text/plain": [
       "SVC(C=1.0, cache_size=200, class_weight=None, coef0=0.0,\n",
       "  decision_function_shape='ovr', degree=3, gamma='auto_deprecated',\n",
       "  kernel='rbf', max_iter=-1, probability=False, random_state=None,\n",
       "  shrinking=True, tol=0.001, verbose=False)"
      ]
     },
     "execution_count": 42,
     "metadata": {},
     "output_type": "execute_result"
    }
   ],
   "source": [
    "#train the model using the training set\n",
    "svm_clf.fit(X_train, y_train)"
   ]
  },
  {
   "cell_type": "code",
   "execution_count": 43,
   "metadata": {},
   "outputs": [],
   "source": [
    "#Predict the response for test dataset\n",
    "y_pred = svm_clf.predict(X_test)"
   ]
  },
  {
   "cell_type": "code",
   "execution_count": null,
   "metadata": {},
   "outputs": [],
   "source": []
  },
  {
   "cell_type": "markdown",
   "metadata": {},
   "source": [
    "# Plotting Results"
   ]
  },
  {
   "cell_type": "code",
   "execution_count": 95,
   "metadata": {},
   "outputs": [
    {
     "data": {
      "text/plain": [
       "8"
      ]
     },
     "execution_count": 95,
     "metadata": {},
     "output_type": "execute_result"
    }
   ],
   "source": [
    "viz_column = 'BitRPM'\n",
    "\n",
    "viz_column_idx = np.argwhere(sorted_features == viz_column)[0, 0]\n",
    "#viz_column_idx"
   ]
  },
  {
   "cell_type": "code",
   "execution_count": 89,
   "metadata": {},
   "outputs": [],
   "source": [
    "# Reshape to recover the structure\n",
    "X_test_reshaped = X_test.reshape((-1, 10, 11))\n",
    "\n",
    "# Get the current timestep (t) before the forecast (t+1)\n",
    "X_test_t = X_test_reshaped[:, window_len-1, :]"
   ]
  },
  {
   "cell_type": "code",
   "execution_count": 102,
   "metadata": {},
   "outputs": [
    {
     "data": {
      "text/plain": [
       "array([0.28369592, 0.28570838, 0.28721783, ..., 1.23010376, 1.23211551,\n",
       "       1.23261925])"
      ]
     },
     "execution_count": 102,
     "metadata": {},
     "output_type": "execute_result"
    }
   ],
   "source": [
    "# Get the interested column index\n",
    "viz_series = X_test_t[:, viz_column_idx]\n",
    "#viz_series"
   ]
  },
  {
   "cell_type": "code",
   "execution_count": 112,
   "metadata": {},
   "outputs": [],
   "source": [
    "num_viz_points = 500\n",
    "time_steps = np.arange(num_viz_points)"
   ]
  },
  {
   "cell_type": "markdown",
   "metadata": {},
   "source": [
    "## Ground truth "
   ]
  },
  {
   "cell_type": "code",
   "execution_count": 126,
   "metadata": {},
   "outputs": [],
   "source": [
    "true_colors = np.empty_like(y_test[:num_viz_points], dtype=np.str)"
   ]
  },
  {
   "cell_type": "code",
   "execution_count": 127,
   "metadata": {},
   "outputs": [],
   "source": [
    "true_colors[y_test[:num_viz_points] == 0] = 'g'\n",
    "true_colors[y_test[:num_viz_points] == 1] = 'r'"
   ]
  },
  {
   "cell_type": "code",
   "execution_count": 129,
   "metadata": {
    "scrolled": true
   },
   "outputs": [
    {
     "data": {
      "text/plain": [
       "<matplotlib.collections.PathCollection at 0x2343c8ef9e8>"
      ]
     },
     "execution_count": 129,
     "metadata": {},
     "output_type": "execute_result"
    },
    {
     "data": {
      "image/png": "[encoded data removed]",
      "text/plain": [
       "<Figure size 1152x432 with 1 Axes>"
      ]
     },
     "metadata": {
      "needs_background": "light"
     },
     "output_type": "display_data"
    }
   ],
   "source": [
    "fig = plt.figure(figsize=(16, 6))\n",
    "\n",
    "plt.scatter(time_steps, viz_series[:num_viz_points], c=true_colors)"
   ]
  },
  {
   "cell_type": "markdown",
   "metadata": {},
   "source": [
    "## Prediction"
   ]
  },
  {
   "cell_type": "code",
   "execution_count": 132,
   "metadata": {},
   "outputs": [],
   "source": [
    "pred_colors = np.empty_like(y_pred[:num_viz_points], dtype=np.str)\n",
    "\n",
    "pred_colors[y_pred[:num_viz_points] == 0] = 'g'\n",
    "pred_colors[y_pred[:num_viz_points] == 1] = 'r'"
   ]
  },
  {
   "cell_type": "code",
   "execution_count": 134,
   "metadata": {},
   "outputs": [
    {
     "data": {
      "text/plain": [
       "<matplotlib.collections.PathCollection at 0x2343d646320>"
      ]
     },
     "execution_count": 134,
     "metadata": {},
     "output_type": "execute_result"
    },
    {
     "data": {
      "image/png": "[encoded data removed]",
      "text/plain": [
       "<Figure size 1152x432 with 1 Axes>"
      ]
     },
     "metadata": {
      "needs_background": "light"
     },
     "output_type": "display_data"
    }
   ],
   "source": [
    "fig = plt.figure(figsize=(16, 6))\n",
    "\n",
    "plt.scatter(time_steps, viz_series[:num_viz_points], c=pred_colors, marker='x')"
   ]
  },
  {
   "cell_type": "markdown",
   "metadata": {},
   "source": [
    "## Ground Truth and Prediction"
   ]
  },
  {
   "cell_type": "code",
   "execution_count": 136,
   "metadata": {
    "scrolled": true
   },
   "outputs": [
    {
     "data": {
      "text/plain": [
       "<matplotlib.legend.Legend at 0x2343a5061d0>"
      ]
     },
     "execution_count": 136,
     "metadata": {},
     "output_type": "execute_result"
    },
    {
     "data": {
      "image/png": "[encoded data removed]",
      "text/plain": [
       "<Figure size 1152x432 with 1 Axes>"
      ]
     },
     "metadata": {
      "needs_background": "light"
     },
     "output_type": "display_data"
    }
   ],
   "source": [
    "fig = plt.figure(figsize=(16, 6))\n",
    "\n",
    "plt.scatter(time_steps, viz_series[:num_viz_points], c=true_colors, label='True')\n",
    "plt.scatter(time_steps, viz_series[:num_viz_points], c=pred_colors, marker='x', label='Prediction')\n",
    "\n",
    "plt.legend()"
   ]
  },
  {
   "cell_type": "markdown",
   "metadata": {},
   "source": [
    "# Pull data out as CSV"
   ]
  },
  {
   "cell_type": "code",
   "execution_count": 150,
   "metadata": {},
   "outputs": [
    {
     "data": {
      "text/plain": [
       "94440"
      ]
     },
     "execution_count": 150,
     "metadata": {},
     "output_type": "execute_result"
    }
   ],
   "source": [
    "split = 0.8\n",
    "split_idx = int(reduced_features.shape[0] * 0.8)\n",
    "split_idx"
   ]
  },
  {
   "cell_type": "code",
   "execution_count": 157,
   "metadata": {},
   "outputs": [],
   "source": [
    "X_viz = reduced_features[split_idx:]\n",
    "y_viz = labels[split_idx:]"
   ]
  },
  {
   "cell_type": "code",
   "execution_count": 158,
   "metadata": {},
   "outputs": [],
   "source": [
    "#Scale the data set\n",
    "X_viz_scaled = scaler.transform(X_viz)\n",
    "\n",
    "#Create split\n",
    "X_viz_windowed, y_viz_windowed  = window(X_viz_scaled, y_viz, window_len=window_len)\n",
    "\n",
    "#Flatten split\n",
    "X_viz_windowed = X_viz_windowed.reshape((-1, flat_feat_len))"
   ]
  },
  {
   "cell_type": "code",
   "execution_count": 164,
   "metadata": {},
   "outputs": [],
   "source": [
    "#Reshape the split\n",
    "X_viz_windowed = X_viz_windowed.reshape((-1, flat_feat_len))"
   ]
  },
  {
   "cell_type": "code",
   "execution_count": 165,
   "metadata": {},
   "outputs": [],
   "source": [
    "#Run through the model\n",
    "pred_viz = svm_clf.predict(X_viz_windowed)"
   ]
  },
  {
   "cell_type": "code",
   "execution_count": 180,
   "metadata": {},
   "outputs": [],
   "source": [
    "#Create the series needed\n",
    "viz_series = X_viz[window_len-1:][viz_column]\n",
    "viz_labels = y_viz[window_len:]"
   ]
  },
  {
   "cell_type": "code",
   "execution_count": 193,
   "metadata": {},
   "outputs": [
    {
     "data": {
      "text/html": [
       "<div>\n",
       "<style scoped>\n",
       "    .dataframe tbody tr th:only-of-type {\n",
       "        vertical-align: middle;\n",
       "    }\n",
       "\n",
       "    .dataframe tbody tr th {\n",
       "        vertical-align: top;\n",
       "    }\n",
       "\n",
       "    .dataframe thead th {\n",
       "        text-align: right;\n",
       "    }\n",
       "</style>\n",
       "<table border=\"1\" class=\"dataframe\">\n",
       "  <thead>\n",
       "    <tr style=\"text-align: right;\">\n",
       "      <th></th>\n",
       "      <th>BitRPM</th>\n",
       "      <th>label</th>\n",
       "      <th>pred</th>\n",
       "    </tr>\n",
       "    <tr>\n",
       "      <th>ReportDateTime</th>\n",
       "      <th></th>\n",
       "      <th></th>\n",
       "      <th></th>\n",
       "    </tr>\n",
       "  </thead>\n",
       "  <tbody>\n",
       "    <tr>\n",
       "      <th>2019-02-14 04:53:00</th>\n",
       "      <td>59.987209</td>\n",
       "      <td>0.0</td>\n",
       "      <td>0.0</td>\n",
       "    </tr>\n",
       "    <tr>\n",
       "      <th>2019-02-14 04:54:00</th>\n",
       "      <td>59.870029</td>\n",
       "      <td>0.0</td>\n",
       "      <td>0.0</td>\n",
       "    </tr>\n",
       "  </tbody>\n",
       "</table>\n",
       "</div>"
      ],
      "text/plain": [
       "                        BitRPM  label  pred\n",
       "ReportDateTime                             \n",
       "2019-02-14 04:53:00  59.987209    0.0   0.0\n",
       "2019-02-14 04:54:00  59.870029    0.0   0.0"
      ]
     },
     "execution_count": 193,
     "metadata": {},
     "output_type": "execute_result"
    }
   ],
   "source": [
    "#Create data frame for use\n",
    "viz_df = pd.DataFrame(viz_series[1:])\n",
    "\n",
    "viz_df['label'] = viz_labels\n",
    "viz_df['pred'] = pred_viz\n",
    "\n",
    "#View two rows\n",
    "viz_df.head(2)"
   ]
  },
  {
   "cell_type": "code",
   "execution_count": null,
   "metadata": {},
   "outputs": [],
   "source": []
  },
  {
   "cell_type": "code",
   "execution_count": null,
   "metadata": {},
   "outputs": [],
   "source": []
  },
  {
   "cell_type": "code",
   "execution_count": null,
   "metadata": {},
   "outputs": [],
   "source": []
  },
  {
   "cell_type": "markdown",
   "metadata": {},
   "source": [
    "### SVM Classifier Window Metrics"
   ]
  },
  {
   "cell_type": "code",
   "execution_count": 44,
   "metadata": {
    "scrolled": true
   },
   "outputs": [
    {
     "name": "stdout",
     "output_type": "stream",
     "text": [
      "SVM Classifier Window Accuracy: 0.9800491358861403\n",
      "SVM Classifier Window Precision: 0.9585365853658536\n",
      "SVM Classifier Window Recall: 0.9693232619084322\n",
      "SVM Classifier Window F1 Score: 0.9638997470682915\n"
     ]
    }
   ],
   "source": [
    "# Model Accuracy: how often is the classifier correct?\n",
    "print(\"SVM Classifier Window Accuracy:\",metrics.accuracy_score(y_test, y_pred))\n",
    "\n",
    "# Model Precision: what percentage of positive tuples are labeled as such?\n",
    "print(\"SVM Classifier Window Precision:\",metrics.precision_score(y_test, y_pred))\n",
    "\n",
    "# Model Recall: what percentage of positive tuples are labelled as such?\n",
    "print(\"SVM Classifier Window Recall:\",metrics.recall_score(y_test, y_pred))\n",
    "\n",
    "# Model F1 Score\n",
    "print(\"SVM Classifier Window F1 Score:\",metrics.f1_score(y_test, y_pred))\n"
   ]
  },
  {
   "cell_type": "code",
   "execution_count": 45,
   "metadata": {
    "scrolled": true
   },
   "outputs": [
    {
     "name": "stdout",
     "output_type": "stream",
     "text": [
      "[[16849   272]\n",
      " [  199  6288]]\n",
      "              precision    recall  f1-score   support\n",
      "\n",
      "         0.0       0.99      0.98      0.99     17121\n",
      "         1.0       0.96      0.97      0.96      6487\n",
      "\n",
      "   micro avg       0.98      0.98      0.98     23608\n",
      "   macro avg       0.97      0.98      0.98     23608\n",
      "weighted avg       0.98      0.98      0.98     23608\n",
      "\n"
     ]
    }
   ],
   "source": [
    "print(confusion_matrix(y_test,y_pred))\n",
    "print(classification_report(y_test,y_pred))"
   ]
  },
  {
   "cell_type": "markdown",
   "metadata": {},
   "source": [
    "# SVM Static Model Build"
   ]
  },
  {
   "cell_type": "code",
   "execution_count": 46,
   "metadata": {},
   "outputs": [],
   "source": [
    "## SVM Static Model"
   ]
  },
  {
   "cell_type": "code",
   "execution_count": 47,
   "metadata": {},
   "outputs": [],
   "source": [
    "#create SVM Classifier\n",
    "#--svm_clf_static = svm.SVC(kernel='rbf')"
   ]
  },
  {
   "cell_type": "code",
   "execution_count": 48,
   "metadata": {},
   "outputs": [],
   "source": [
    "#train the model using the training set\n",
    "#--svm_clf_static.fit(X_train_st, y_train_st)"
   ]
  },
  {
   "cell_type": "code",
   "execution_count": 49,
   "metadata": {},
   "outputs": [],
   "source": [
    "#Predict the response for test dataset\n",
    "#--y_pred_st = svm_clf_static.predict(X_test_st)"
   ]
  },
  {
   "cell_type": "markdown",
   "metadata": {},
   "source": [
    "### SVM Static Model Metrics"
   ]
  },
  {
   "cell_type": "code",
   "execution_count": 50,
   "metadata": {},
   "outputs": [],
   "source": [
    "# Model Accuracy: how often is the classifier correct?\n",
    "#--print(\"SVM Static Model Accuracy:\",metrics.accuracy_score(y_test_st, y_pred_st))\n",
    "\n",
    "# Model Precision: what percentage of positive tuples are labeled as such?\n",
    "#--print(\"SVM Static Model Precision:\",metrics.precision_score(y_test_st, y_pred_st))\n",
    "\n",
    "# Model Recall: what percentage of positive tuples are labelled as such?\n",
    "#--print(\"SVM Static Model Recall:\",metrics.recall_score(y_test_st, y_pred_st))\n",
    "\n",
    "# Model F1 Score\n",
    "#--print(\"SVM Static Model F1 Score:\",metrics.f1_score(y_test_st, y_pred_st))"
   ]
  },
  {
   "cell_type": "markdown",
   "metadata": {},
   "source": [
    "# Logistic Regression"
   ]
  },
  {
   "cell_type": "code",
   "execution_count": 51,
   "metadata": {},
   "outputs": [],
   "source": [
    "logistic_clf = LogisticRegression(random_state=0, solver='lbfgs', multi_class='multinomial').fit(X_train, y_train)"
   ]
  },
  {
   "cell_type": "code",
   "execution_count": 52,
   "metadata": {},
   "outputs": [],
   "source": [
    "y_pred_logistic = logistic_clf.predict(X_test)"
   ]
  },
  {
   "cell_type": "code",
   "execution_count": 53,
   "metadata": {},
   "outputs": [
    {
     "name": "stdout",
     "output_type": "stream",
     "text": [
      "Logistic Regression Classifier Window Accuracy: 0.9757285665875974\n",
      "Logistic Regression Classifier Window Precision: 0.9540847665847666\n",
      "Logistic Regression Classifier Window Recall: 0.9577616772005549\n",
      "Logistic Regression Classifier Window F1 Score: 0.9559196861297022\n"
     ]
    }
   ],
   "source": [
    "# Model Accuracy: how often is the classifier correct?\n",
    "print(\"Logistic Regression Classifier Window Accuracy:\",metrics.accuracy_score(y_test, y_pred_logistic))\n",
    "\n",
    "# Model Precision: what percentage of positive tuples are labeled as such?\n",
    "print(\"Logistic Regression Classifier Window Precision:\",metrics.precision_score(y_test, y_pred_logistic))\n",
    "\n",
    "# Model Recall: what percentage of positive tuples are labelled as such?\n",
    "print(\"Logistic Regression Classifier Window Recall:\",metrics.recall_score(y_test, y_pred_logistic))\n",
    "\n",
    "# Model F1 Score\n",
    "print(\"Logistic Regression Classifier Window F1 Score:\",metrics.f1_score(y_test, y_pred_logistic))"
   ]
  },
  {
   "cell_type": "markdown",
   "metadata": {},
   "source": [
    "# Random Forest Classifier Window Build"
   ]
  },
  {
   "cell_type": "code",
   "execution_count": 54,
   "metadata": {},
   "outputs": [],
   "source": [
    "# use smaller n_estimator\n",
    "rf_clf = RandomForestClassifier(n_estimators = 10, random_state = 42)"
   ]
  },
  {
   "cell_type": "code",
   "execution_count": 55,
   "metadata": {},
   "outputs": [
    {
     "data": {
      "text/plain": [
       "RandomForestClassifier(bootstrap=True, class_weight=None, criterion='gini',\n",
       "            max_depth=None, max_features='auto', max_leaf_nodes=None,\n",
       "            min_impurity_decrease=0.0, min_impurity_split=None,\n",
       "            min_samples_leaf=1, min_samples_split=2,\n",
       "            min_weight_fraction_leaf=0.0, n_estimators=10, n_jobs=None,\n",
       "            oob_score=False, random_state=42, verbose=0, warm_start=False)"
      ]
     },
     "execution_count": 55,
     "metadata": {},
     "output_type": "execute_result"
    }
   ],
   "source": [
    "# Train the model on training data\n",
    "rf_clf.fit(X_train, y_train)"
   ]
  },
  {
   "cell_type": "code",
   "execution_count": 56,
   "metadata": {},
   "outputs": [],
   "source": [
    "# Use the forest's predict method on the test data\n",
    "y_pred_rf = rf_clf.predict(X_test)"
   ]
  },
  {
   "cell_type": "markdown",
   "metadata": {},
   "source": [
    "# All Results"
   ]
  },
  {
   "cell_type": "code",
   "execution_count": 65,
   "metadata": {
    "scrolled": true
   },
   "outputs": [
    {
     "name": "stdout",
     "output_type": "stream",
     "text": [
      "Resampled Data at 1 minute intervals\n",
      " \n",
      "SVM Classifier Window Accuracy: 0.9800491358861403\n",
      "SVM Classifier Window Precision: 0.9585365853658536\n",
      "SVM Classifier Window Recall: 0.9693232619084322\n",
      "SVM Classifier Window F1 Score: 0.9638997470682915\n",
      " \n",
      "LR Classifier Window Accuracy: 0.9757285665875974\n",
      "LR Classifier Window Precision: 0.9540847665847666\n",
      "LR Classifier Window Recall: 0.9577616772005549\n",
      "LR Classifier Window F1 Score: 0.9559196861297022\n",
      " \n",
      "RF Classifier Window Accuracy: 0.9528549644188411\n",
      "RF Classifier Window Precision: 0.9121165644171779\n",
      "RF Classifier Window Recall: 0.9167565901032835\n",
      "RF Classifier Window F1 Score: 0.914430691166295\n"
     ]
    }
   ],
   "source": [
    "print(\"Resampled Data at 1 minute intervals\")\n",
    "print(\" \")\n",
    "# Model Accuracy: how often is the classifier correct?\n",
    "print(\"SVM Classifier Window Accuracy:\",metrics.accuracy_score(y_test, y_pred))\n",
    "\n",
    "# Model Precision: what percentage of positive tuples are labeled as such?\n",
    "print(\"SVM Classifier Window Precision:\",metrics.precision_score(y_test, y_pred))\n",
    "\n",
    "# Model Recall: what percentage of positive tuples are labelled as such?\n",
    "print(\"SVM Classifier Window Recall:\",metrics.recall_score(y_test, y_pred))\n",
    "\n",
    "# Model F1 Score\n",
    "print(\"SVM Classifier Window F1 Score:\",metrics.f1_score(y_test, y_pred))\n",
    "print(\" \")\n",
    "\n",
    "\n",
    "# Model Accuracy: how often is the classifier correct?\n",
    "print(\"LR Classifier Window Accuracy:\",metrics.accuracy_score(y_test, y_pred_logistic))\n",
    "\n",
    "# Model Precision: what percentage of positive tuples are labeled as such?\n",
    "print(\"LR Classifier Window Precision:\",metrics.precision_score(y_test, y_pred_logistic))\n",
    "\n",
    "# Model Recall: what percentage of positive tuples are labelled as such?\n",
    "print(\"LR Classifier Window Recall:\",metrics.recall_score(y_test, y_pred_logistic))\n",
    "\n",
    "# Model F1 Score\n",
    "print(\"LR Classifier Window F1 Score:\",metrics.f1_score(y_test, y_pred_logistic))\n",
    "print(\" \")\n",
    "\n",
    "# Model Accuracy: how often is the classifier correct?\n",
    "print(\"RF Classifier Window Accuracy:\",metrics.accuracy_score(y_test, y_pred_rf))\n",
    "\n",
    "# Model Precision: what percentage of positive tuples are labeled as such?\n",
    "print(\"RF Classifier Window Precision:\",metrics.precision_score(y_test, y_pred_rf))\n",
    "\n",
    "# Model Recall: what percentage of positive tuples are labelled as such?\n",
    "print(\"RF Classifier Window Recall:\",metrics.recall_score(y_test, y_pred_rf))\n",
    "\n",
    "# Model F1 Score\n",
    "print(\"RF Classifier Window F1 Score:\",metrics.f1_score(y_test, y_pred_rf))"
   ]
  },
  {
   "cell_type": "markdown",
   "metadata": {},
   "source": [
    "# ROC / AUC Curves\n",
    "## Classifier Window Model Build with Probablities"
   ]
  },
  {
   "cell_type": "code",
   "execution_count": 58,
   "metadata": {},
   "outputs": [],
   "source": [
    "#create SVM Classifier\n",
    "#--svm_clf_prob = svm.SVC(kernel='rbf', probability=True )"
   ]
  },
  {
   "cell_type": "code",
   "execution_count": 59,
   "metadata": {},
   "outputs": [],
   "source": [
    "#train the model using the training set\n",
    "#--svm_clf_prob.fit(X_train, y_train)"
   ]
  },
  {
   "cell_type": "code",
   "execution_count": 60,
   "metadata": {},
   "outputs": [],
   "source": [
    "#Predict the response for test dataset\n",
    "#--y_pred_prob = svm_clf_prob.predict(X_test)"
   ]
  },
  {
   "cell_type": "code",
   "execution_count": 61,
   "metadata": {},
   "outputs": [],
   "source": [
    "# predict probabilities\n",
    "#--probs = svm_clf_prob.predict_proba(X_test)\n",
    "# keep probabilities for the positive outcome only\n",
    "#--probs = probs[:, 1]\n"
   ]
  },
  {
   "cell_type": "code",
   "execution_count": 62,
   "metadata": {},
   "outputs": [],
   "source": [
    "# calculate AUC\n",
    "#--auc = roc_auc_score(y_test, probs)\n",
    "#--print('AUC: %.3f' % auc)\n",
    "# calculate roc curve\n",
    "#--fpr, tpr, thresholds = roc_curve(y_test, probs)"
   ]
  },
  {
   "cell_type": "code",
   "execution_count": 63,
   "metadata": {},
   "outputs": [],
   "source": [
    "# plot no skill\n",
    "#--pyplot.plot([0, 1], [0, 1], linestyle='--')\n",
    "# plot the roc curve for the model\n",
    "#--pyplot.plot(fpr, tpr, marker='.')\n",
    "# show the plot\n",
    "#--pyplot.show()"
   ]
  }
 ],
 "metadata": {
  "kernelspec": {
   "display_name": "Python 3",
   "language": "python",
   "name": "python3"
  },
  "language_info": {
   "codemirror_mode": {
    "name": "ipython",
    "version": 3
   },
   "file_extension": ".py",
   "mimetype": "text/x-python",
   "name": "python",
   "nbconvert_exporter": "python",
   "pygments_lexer": "ipython3",
   "version": "3.7.3"
  }
 },
 "nbformat": 4,
 "nbformat_minor": 2
}
